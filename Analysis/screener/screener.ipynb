{
 "cells": [
  {
   "cell_type": "markdown",
   "id": "8f5197bd",
   "metadata": {},
   "source": [
    "## Screen stocks to download options data"
   ]
  },
  {
   "cell_type": "code",
   "execution_count": 15,
   "id": "436b3c21",
   "metadata": {
    "scrolled": true
   },
   "outputs": [
    {
     "name": "stdout",
     "output_type": "stream",
     "text": [
      "[Info] loading page [##############################] 90/90 \r"
     ]
    },
    {
     "data": {
      "text/html": [
       "<div>\n",
       "<style scoped>\n",
       "    .dataframe tbody tr th:only-of-type {\n",
       "        vertical-align: middle;\n",
       "    }\n",
       "\n",
       "    .dataframe tbody tr th {\n",
       "        vertical-align: top;\n",
       "    }\n",
       "\n",
       "    .dataframe thead th {\n",
       "        text-align: right;\n",
       "    }\n",
       "</style>\n",
       "<table border=\"1\" class=\"dataframe\">\n",
       "  <thead>\n",
       "    <tr style=\"text-align: right;\">\n",
       "      <th></th>\n",
       "      <th>Ticker</th>\n",
       "      <th>Company</th>\n",
       "      <th>Sector</th>\n",
       "      <th>Industry</th>\n",
       "      <th>Country</th>\n",
       "      <th>Market Cap</th>\n",
       "      <th>P/E</th>\n",
       "      <th>Price</th>\n",
       "      <th>Change</th>\n",
       "      <th>Volume</th>\n",
       "    </tr>\n",
       "  </thead>\n",
       "  <tbody>\n",
       "    <tr>\n",
       "      <th>0</th>\n",
       "      <td>A</td>\n",
       "      <td>Agilent Technologies, Inc.</td>\n",
       "      <td>Healthcare</td>\n",
       "      <td>Diagnostics &amp; Research</td>\n",
       "      <td>USA</td>\n",
       "      <td>4.519000e+10</td>\n",
       "      <td>37.21</td>\n",
       "      <td>155.69</td>\n",
       "      <td>-0.0035</td>\n",
       "      <td>646217.0</td>\n",
       "    </tr>\n",
       "    <tr>\n",
       "      <th>1</th>\n",
       "      <td>AA</td>\n",
       "      <td>Alcoa Corporation</td>\n",
       "      <td>Basic Materials</td>\n",
       "      <td>Aluminum</td>\n",
       "      <td>USA</td>\n",
       "      <td>9.060000e+09</td>\n",
       "      <td>NaN</td>\n",
       "      <td>52.75</td>\n",
       "      <td>0.0123</td>\n",
       "      <td>4768175.0</td>\n",
       "    </tr>\n",
       "    <tr>\n",
       "      <th>2</th>\n",
       "      <td>AAL</td>\n",
       "      <td>American Airlines Group Inc.</td>\n",
       "      <td>Industrials</td>\n",
       "      <td>Airlines</td>\n",
       "      <td>USA</td>\n",
       "      <td>1.064000e+10</td>\n",
       "      <td>NaN</td>\n",
       "      <td>16.43</td>\n",
       "      <td>-0.0108</td>\n",
       "      <td>26169386.0</td>\n",
       "    </tr>\n",
       "    <tr>\n",
       "      <th>3</th>\n",
       "      <td>AAON</td>\n",
       "      <td>AAON, Inc.</td>\n",
       "      <td>Industrials</td>\n",
       "      <td>Building Products &amp; Equipment</td>\n",
       "      <td>USA</td>\n",
       "      <td>3.950000e+09</td>\n",
       "      <td>59.32</td>\n",
       "      <td>74.50</td>\n",
       "      <td>0.0081</td>\n",
       "      <td>211463.0</td>\n",
       "    </tr>\n",
       "    <tr>\n",
       "      <th>4</th>\n",
       "      <td>AAP</td>\n",
       "      <td>Advance Auto Parts, Inc.</td>\n",
       "      <td>Consumer Cyclical</td>\n",
       "      <td>Specialty Retail</td>\n",
       "      <td>USA</td>\n",
       "      <td>8.490000e+09</td>\n",
       "      <td>18.97</td>\n",
       "      <td>147.44</td>\n",
       "      <td>-0.0012</td>\n",
       "      <td>1198968.0</td>\n",
       "    </tr>\n",
       "  </tbody>\n",
       "</table>\n",
       "</div>"
      ],
      "text/plain": [
       "  Ticker                       Company             Sector  \\\n",
       "0      A    Agilent Technologies, Inc.         Healthcare   \n",
       "1     AA             Alcoa Corporation    Basic Materials   \n",
       "2    AAL  American Airlines Group Inc.        Industrials   \n",
       "3   AAON                    AAON, Inc.        Industrials   \n",
       "4    AAP      Advance Auto Parts, Inc.  Consumer Cyclical   \n",
       "\n",
       "                        Industry Country    Market Cap    P/E   Price  Change  \\\n",
       "0         Diagnostics & Research     USA  4.519000e+10  37.21  155.69 -0.0035   \n",
       "1                       Aluminum     USA  9.060000e+09    NaN   52.75  0.0123   \n",
       "2                       Airlines     USA  1.064000e+10    NaN   16.43 -0.0108   \n",
       "3  Building Products & Equipment     USA  3.950000e+09  59.32   74.50  0.0081   \n",
       "4               Specialty Retail     USA  8.490000e+09  18.97  147.44 -0.0012   \n",
       "\n",
       "       Volume  \n",
       "0    646217.0  \n",
       "1   4768175.0  \n",
       "2  26169386.0  \n",
       "3    211463.0  \n",
       "4   1198968.0  "
      ]
     },
     "execution_count": 15,
     "metadata": {},
     "output_type": "execute_result"
    }
   ],
   "source": [
    "from finvizfinance.screener.overview import Overview\n",
    "\n",
    "foverview = Overview()\n",
    "filters_dict = {\n",
    "#     'Exchange':'NASDAQ',\n",
    "                'Market Cap.':'+Mid (over $2bln)',\n",
    "                'Option/Short': 'Optionable',\n",
    "                'Average Volume': 'Over 100K',\n",
    "                'Price': 'Over $5'}\n",
    "foverview.set_filter(filters_dict=filters_dict)\n",
    "df = foverview.screener_view()\n",
    "df.shape\n",
    "df.head()"
   ]
  },
  {
   "cell_type": "code",
   "execution_count": 16,
   "id": "ee942e9a",
   "metadata": {},
   "outputs": [
    {
     "data": {
      "text/plain": [
       "1781"
      ]
     },
     "execution_count": 16,
     "metadata": {},
     "output_type": "execute_result"
    }
   ],
   "source": [
    "lst = sorted(list(set(df.Ticker)))\n",
    "len(lst)"
   ]
  },
  {
   "cell_type": "code",
   "execution_count": 17,
   "id": "b03f0a10",
   "metadata": {},
   "outputs": [],
   "source": [
    "import pickle\n",
    "with open(\"optionable_ticker_for_val\", \"wb\") as fp:   #Pickling\n",
    "    pickle.dump(lst, fp)"
   ]
  },
  {
   "cell_type": "markdown",
   "id": "78c09257",
   "metadata": {},
   "source": [
    "## Screen Chinese stocks"
   ]
  },
  {
   "cell_type": "code",
   "execution_count": 24,
   "id": "c8a965c9",
   "metadata": {},
   "outputs": [
    {
     "name": "stdout",
     "output_type": "stream",
     "text": [
      "[Info] loading page [##############################] 4/4 \r"
     ]
    },
    {
     "data": {
      "text/html": [
       "<div>\n",
       "<style scoped>\n",
       "    .dataframe tbody tr th:only-of-type {\n",
       "        vertical-align: middle;\n",
       "    }\n",
       "\n",
       "    .dataframe tbody tr th {\n",
       "        vertical-align: top;\n",
       "    }\n",
       "\n",
       "    .dataframe thead th {\n",
       "        text-align: right;\n",
       "    }\n",
       "</style>\n",
       "<table border=\"1\" class=\"dataframe\">\n",
       "  <thead>\n",
       "    <tr style=\"text-align: right;\">\n",
       "      <th></th>\n",
       "      <th>Ticker</th>\n",
       "      <th>Company</th>\n",
       "      <th>Sector</th>\n",
       "      <th>Industry</th>\n",
       "      <th>Country</th>\n",
       "      <th>Market Cap</th>\n",
       "      <th>P/E</th>\n",
       "      <th>Price</th>\n",
       "      <th>Change</th>\n",
       "      <th>Volume</th>\n",
       "    </tr>\n",
       "  </thead>\n",
       "  <tbody>\n",
       "    <tr>\n",
       "      <th>0</th>\n",
       "      <td>API</td>\n",
       "      <td>Agora, Inc.</td>\n",
       "      <td>Technology</td>\n",
       "      <td>Software - Application</td>\n",
       "      <td>China</td>\n",
       "      <td>4.385700e+08</td>\n",
       "      <td>NaN</td>\n",
       "      <td>4.12</td>\n",
       "      <td>-0.0096</td>\n",
       "      <td>460320.0</td>\n",
       "    </tr>\n",
       "    <tr>\n",
       "      <th>1</th>\n",
       "      <td>ATAT</td>\n",
       "      <td>Atour Lifestyle Holdings Limited</td>\n",
       "      <td>Consumer Cyclical</td>\n",
       "      <td>Lodging</td>\n",
       "      <td>China</td>\n",
       "      <td>3.260000e+09</td>\n",
       "      <td>138.89</td>\n",
       "      <td>25.00</td>\n",
       "      <td>0.0138</td>\n",
       "      <td>326498.0</td>\n",
       "    </tr>\n",
       "    <tr>\n",
       "      <th>2</th>\n",
       "      <td>ATHM</td>\n",
       "      <td>Autohome Inc.</td>\n",
       "      <td>Communication Services</td>\n",
       "      <td>Internet Content &amp; Information</td>\n",
       "      <td>China</td>\n",
       "      <td>4.410000e+09</td>\n",
       "      <td>20.91</td>\n",
       "      <td>36.55</td>\n",
       "      <td>-0.0261</td>\n",
       "      <td>304114.0</td>\n",
       "    </tr>\n",
       "    <tr>\n",
       "      <th>3</th>\n",
       "      <td>BABA</td>\n",
       "      <td>Alibaba Group Holding Limited</td>\n",
       "      <td>Consumer Cyclical</td>\n",
       "      <td>Internet Retail</td>\n",
       "      <td>China</td>\n",
       "      <td>3.048400e+11</td>\n",
       "      <td>163.51</td>\n",
       "      <td>118.38</td>\n",
       "      <td>-0.0182</td>\n",
       "      <td>17884063.0</td>\n",
       "    </tr>\n",
       "    <tr>\n",
       "      <th>4</th>\n",
       "      <td>BEDU</td>\n",
       "      <td>Bright Scholar Education Holdings Limited</td>\n",
       "      <td>Consumer Defensive</td>\n",
       "      <td>Education &amp; Training Services</td>\n",
       "      <td>China</td>\n",
       "      <td>3.031600e+08</td>\n",
       "      <td>NaN</td>\n",
       "      <td>2.60</td>\n",
       "      <td>-0.0189</td>\n",
       "      <td>8687.0</td>\n",
       "    </tr>\n",
       "  </tbody>\n",
       "</table>\n",
       "</div>"
      ],
      "text/plain": [
       "  Ticker                                    Company                  Sector  \\\n",
       "0    API                                Agora, Inc.              Technology   \n",
       "1   ATAT           Atour Lifestyle Holdings Limited       Consumer Cyclical   \n",
       "2   ATHM                              Autohome Inc.  Communication Services   \n",
       "3   BABA              Alibaba Group Holding Limited       Consumer Cyclical   \n",
       "4   BEDU  Bright Scholar Education Holdings Limited      Consumer Defensive   \n",
       "\n",
       "                         Industry Country    Market Cap     P/E   Price  \\\n",
       "0          Software - Application   China  4.385700e+08     NaN    4.12   \n",
       "1                         Lodging   China  3.260000e+09  138.89   25.00   \n",
       "2  Internet Content & Information   China  4.410000e+09   20.91   36.55   \n",
       "3                 Internet Retail   China  3.048400e+11  163.51  118.38   \n",
       "4   Education & Training Services   China  3.031600e+08     NaN    2.60   \n",
       "\n",
       "   Change      Volume  \n",
       "0 -0.0096    460320.0  \n",
       "1  0.0138    326498.0  \n",
       "2 -0.0261    304114.0  \n",
       "3 -0.0182  17884063.0  \n",
       "4 -0.0189      8687.0  "
      ]
     },
     "execution_count": 24,
     "metadata": {},
     "output_type": "execute_result"
    }
   ],
   "source": [
    "foverview = Overview()\n",
    "filters_dict = {\n",
    "#     'Exchange':'NASDAQ',\n",
    "                'Country': 'China',\n",
    "                'Market Cap.':'+Small (over $300mln)',\n",
    "                'Price': 'Over $1'}\n",
    "foverview.set_filter(filters_dict=filters_dict)\n",
    "df = foverview.screener_view()\n",
    "df.shape\n",
    "df.head()"
   ]
  },
  {
   "cell_type": "code",
   "execution_count": 25,
   "id": "49dabb87",
   "metadata": {},
   "outputs": [
    {
     "data": {
      "text/plain": [
       "73"
      ]
     },
     "execution_count": 25,
     "metadata": {},
     "output_type": "execute_result"
    }
   ],
   "source": [
    "lst = sorted(list(set(df.Ticker)))\n",
    "len(lst)"
   ]
  },
  {
   "cell_type": "code",
   "execution_count": 26,
   "id": "8e0adaa3",
   "metadata": {},
   "outputs": [],
   "source": [
    "import pickle\n",
    "with open(\"chinese_ticker\", \"wb\") as fp:   #Pickling\n",
    "    pickle.dump(lst, fp)"
   ]
  }
 ],
 "metadata": {
  "kernelspec": {
   "display_name": "Python 3 (ipykernel)",
   "language": "python",
   "name": "python3"
  },
  "language_info": {
   "codemirror_mode": {
    "name": "ipython",
    "version": 3
   },
   "file_extension": ".py",
   "mimetype": "text/x-python",
   "name": "python",
   "nbconvert_exporter": "python",
   "pygments_lexer": "ipython3",
   "version": "3.9.13"
  }
 },
 "nbformat": 4,
 "nbformat_minor": 5
}
