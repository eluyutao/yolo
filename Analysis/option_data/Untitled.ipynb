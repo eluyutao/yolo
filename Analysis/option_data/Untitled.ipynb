{
 "cells": [
  {
   "cell_type": "code",
   "execution_count": 1,
   "id": "612b0257",
   "metadata": {},
   "outputs": [],
   "source": [
    "import pandas as pd\n",
    "import numpy as np\n",
    "import yfinance as yf\n",
    "import datetime"
   ]
  },
  {
   "cell_type": "code",
   "execution_count": 2,
   "id": "12c3238d",
   "metadata": {},
   "outputs": [],
   "source": [
    "tk = yf.Ticker('TSLA')\n",
    "# Expiration dates\n",
    "exps = tk.options"
   ]
  },
  {
   "cell_type": "code",
   "execution_count": 3,
   "id": "2c971aa8",
   "metadata": {},
   "outputs": [
    {
     "ename": "ValueError",
     "evalue": "Expiration `2022-06-10` cannot be found. Available expiration are: [2022-07-08, 2022-07-15, 2022-07-22, 2022-07-29, 2022-08-05, 2022-08-19, 2022-09-16, 2022-10-21, 2022-11-18, 2022-12-16, 2023-01-20, 2023-03-17, 2023-06-16, 2023-09-15, 2024-01-19, 2024-03-15, 2024-06-21]",
     "output_type": "error",
     "traceback": [
      "\u001b[1;31m---------------------------------------------------------------------------\u001b[0m",
      "\u001b[1;31mValueError\u001b[0m                                Traceback (most recent call last)",
      "\u001b[1;32m~\\AppData\\Local\\Temp/ipykernel_21964/1943363888.py\u001b[0m in \u001b[0;36m<module>\u001b[1;34m\u001b[0m\n\u001b[1;32m----> 1\u001b[1;33m \u001b[0mtk\u001b[0m\u001b[1;33m.\u001b[0m\u001b[0moption_chain\u001b[0m\u001b[1;33m(\u001b[0m\u001b[1;34m'2022-06-10'\u001b[0m\u001b[1;33m)\u001b[0m\u001b[1;33m\u001b[0m\u001b[1;33m\u001b[0m\u001b[0m\n\u001b[0m",
      "\u001b[1;32m~\\AppData\\Roaming\\Python\\Python37\\site-packages\\yfinance\\ticker.py\u001b[0m in \u001b[0;36moption_chain\u001b[1;34m(self, date, proxy, tz)\u001b[0m\n\u001b[0;32m    100\u001b[0m                     \u001b[1;34m\"Expiration `%s` cannot be found. \"\u001b[0m\u001b[1;33m\u001b[0m\u001b[1;33m\u001b[0m\u001b[0m\n\u001b[0;32m    101\u001b[0m                     \"Available expiration are: [%s]\" % (\n\u001b[1;32m--> 102\u001b[1;33m                         date, ', '.join(self._expirations)))\n\u001b[0m\u001b[0;32m    103\u001b[0m             \u001b[0mdate\u001b[0m \u001b[1;33m=\u001b[0m \u001b[0mself\u001b[0m\u001b[1;33m.\u001b[0m\u001b[0m_expirations\u001b[0m\u001b[1;33m[\u001b[0m\u001b[0mdate\u001b[0m\u001b[1;33m]\u001b[0m\u001b[1;33m\u001b[0m\u001b[1;33m\u001b[0m\u001b[0m\n\u001b[0;32m    104\u001b[0m             \u001b[0moptions\u001b[0m \u001b[1;33m=\u001b[0m \u001b[0mself\u001b[0m\u001b[1;33m.\u001b[0m\u001b[0m_download_options\u001b[0m\u001b[1;33m(\u001b[0m\u001b[0mdate\u001b[0m\u001b[1;33m,\u001b[0m \u001b[0mproxy\u001b[0m\u001b[1;33m=\u001b[0m\u001b[0mproxy\u001b[0m\u001b[1;33m)\u001b[0m\u001b[1;33m\u001b[0m\u001b[1;33m\u001b[0m\u001b[0m\n",
      "\u001b[1;31mValueError\u001b[0m: Expiration `2022-06-10` cannot be found. Available expiration are: [2022-07-08, 2022-07-15, 2022-07-22, 2022-07-29, 2022-08-05, 2022-08-19, 2022-09-16, 2022-10-21, 2022-11-18, 2022-12-16, 2023-01-20, 2023-03-17, 2023-06-16, 2023-09-15, 2024-01-19, 2024-03-15, 2024-06-21]"
     ]
    }
   ],
   "source": [
    "tk.option_chain('2022-06-10')"
   ]
  },
  {
   "cell_type": "code",
   "execution_count": 24,
   "id": "4b952e56",
   "metadata": {},
   "outputs": [],
   "source": [
    "import pandas as pd\n",
    "import numpy as np\n",
    "import yfinance as yf\n",
    "import datetime\n",
    "\n",
    "def options_chain(symbol):\n",
    "\n",
    "    tk = yf.Ticker(symbol)\n",
    "    # Expiration dates\n",
    "    exps = tk.options\n",
    "\n",
    "    # Get options for each expiration\n",
    "    options = pd.DataFrame()\n",
    "    for e in exps:\n",
    "        opt = tk.option_chain(e)\n",
    "        opt = pd.DataFrame().append(opt.calls).append(opt.puts)\n",
    "        opt['expirationDate'] = e\n",
    "        options = options.append(opt, ignore_index=True)\n",
    "\n",
    "    # Bizarre error in yfinance that gives the wrong expiration date\n",
    "    # Add 1 day to get the correct expiration date\n",
    "    options['expirationDate'] = pd.to_datetime(options['expirationDate'])\n",
    "    options['dte'] = (options['expirationDate'] - datetime.datetime.today()).dt.days / 365\n",
    "    \n",
    "    # Boolean column if the option is a CALL\n",
    "    options['CALL'] = options['contractSymbol'].str[4:].apply(\n",
    "        lambda x: \"C\" in x)\n",
    "    \n",
    "    options[['bid', 'ask', 'strike']] = options[['bid', 'ask', 'strike']].apply(pd.to_numeric)\n",
    "    options['mark'] = (options['bid'] + options['ask']) / 2 # Calculate the midpoint of the bid-ask\n",
    "    \n",
    "    # Drop unnecessary and meaningless columns\n",
    "#     options = options.drop(columns = ['contractSize', 'currency', 'change', 'percentChange', 'lastTradeDate', 'lastPrice'])\n",
    "\n",
    "    return options"
   ]
  },
  {
   "cell_type": "code",
   "execution_count": 25,
   "id": "e378d86f",
   "metadata": {},
   "outputs": [
    {
     "name": "stdout",
     "output_type": "stream",
     "text": [
      "Wall time: 4.42 s\n"
     ]
    }
   ],
   "source": [
    "%%time\n",
    "option = options_chain('TSLA')"
   ]
  },
  {
   "cell_type": "code",
   "execution_count": 29,
   "id": "328fca1d",
   "metadata": {},
   "outputs": [
    {
     "data": {
      "text/html": [
       "<div>\n",
       "<style scoped>\n",
       "    .dataframe tbody tr th:only-of-type {\n",
       "        vertical-align: middle;\n",
       "    }\n",
       "\n",
       "    .dataframe tbody tr th {\n",
       "        vertical-align: top;\n",
       "    }\n",
       "\n",
       "    .dataframe thead th {\n",
       "        text-align: right;\n",
       "    }\n",
       "</style>\n",
       "<table border=\"1\" class=\"dataframe\">\n",
       "  <thead>\n",
       "    <tr style=\"text-align: right;\">\n",
       "      <th></th>\n",
       "      <th>contractSymbol</th>\n",
       "      <th>lastTradeDate</th>\n",
       "      <th>strike</th>\n",
       "      <th>lastPrice</th>\n",
       "      <th>bid</th>\n",
       "      <th>ask</th>\n",
       "      <th>change</th>\n",
       "      <th>percentChange</th>\n",
       "      <th>volume</th>\n",
       "      <th>openInterest</th>\n",
       "      <th>impliedVolatility</th>\n",
       "      <th>inTheMoney</th>\n",
       "      <th>contractSize</th>\n",
       "      <th>currency</th>\n",
       "      <th>expirationDate</th>\n",
       "      <th>dte</th>\n",
       "      <th>CALL</th>\n",
       "      <th>mark</th>\n",
       "    </tr>\n",
       "  </thead>\n",
       "  <tbody>\n",
       "    <tr>\n",
       "      <th>48</th>\n",
       "      <td>TSLA220610C00700000</td>\n",
       "      <td>2022-06-03 19:59:58+00:00</td>\n",
       "      <td>700.0</td>\n",
       "      <td>30.82</td>\n",
       "      <td>30.5</td>\n",
       "      <td>31.0</td>\n",
       "      <td>-54.239998</td>\n",
       "      <td>-63.766754</td>\n",
       "      <td>7986.0</td>\n",
       "      <td>2611.0</td>\n",
       "      <td>0.883546</td>\n",
       "      <td>True</td>\n",
       "      <td>REGULAR</td>\n",
       "      <td>USD</td>\n",
       "      <td>2022-06-10</td>\n",
       "      <td>0.010959</td>\n",
       "      <td>True</td>\n",
       "      <td>30.75</td>\n",
       "    </tr>\n",
       "    <tr>\n",
       "      <th>225</th>\n",
       "      <td>TSLA220610P00700000</td>\n",
       "      <td>2022-06-03 19:59:59+00:00</td>\n",
       "      <td>700.0</td>\n",
       "      <td>27.43</td>\n",
       "      <td>27.3</td>\n",
       "      <td>27.8</td>\n",
       "      <td>18.930000</td>\n",
       "      <td>222.705890</td>\n",
       "      <td>32993.0</td>\n",
       "      <td>3511.0</td>\n",
       "      <td>0.894288</td>\n",
       "      <td>False</td>\n",
       "      <td>REGULAR</td>\n",
       "      <td>USD</td>\n",
       "      <td>2022-06-10</td>\n",
       "      <td>0.010959</td>\n",
       "      <td>False</td>\n",
       "      <td>27.55</td>\n",
       "    </tr>\n",
       "  </tbody>\n",
       "</table>\n",
       "</div>"
      ],
      "text/plain": [
       "          contractSymbol             lastTradeDate  strike  lastPrice   bid  \\\n",
       "48   TSLA220610C00700000 2022-06-03 19:59:58+00:00   700.0      30.82  30.5   \n",
       "225  TSLA220610P00700000 2022-06-03 19:59:59+00:00   700.0      27.43  27.3   \n",
       "\n",
       "      ask     change  percentChange   volume  openInterest  impliedVolatility  \\\n",
       "48   31.0 -54.239998     -63.766754   7986.0        2611.0           0.883546   \n",
       "225  27.8  18.930000     222.705890  32993.0        3511.0           0.894288   \n",
       "\n",
       "     inTheMoney contractSize currency expirationDate       dte   CALL   mark  \n",
       "48         True      REGULAR      USD     2022-06-10  0.010959   True  30.75  \n",
       "225       False      REGULAR      USD     2022-06-10  0.010959  False  27.55  "
      ]
     },
     "execution_count": 29,
     "metadata": {},
     "output_type": "execute_result"
    }
   ],
   "source": [
    "option[(option.expirationDate=='2022-06-10') & (option.strike==700)]"
   ]
  },
  {
   "cell_type": "code",
   "execution_count": null,
   "id": "19f11fbb",
   "metadata": {},
   "outputs": [],
   "source": []
  }
 ],
 "metadata": {
  "kernelspec": {
   "display_name": "Python 3 (ipykernel)",
   "language": "python",
   "name": "python3"
  },
  "language_info": {
   "codemirror_mode": {
    "name": "ipython",
    "version": 3
   },
   "file_extension": ".py",
   "mimetype": "text/x-python",
   "name": "python",
   "nbconvert_exporter": "python",
   "pygments_lexer": "ipython3",
   "version": "3.7.2"
  }
 },
 "nbformat": 4,
 "nbformat_minor": 5
}
