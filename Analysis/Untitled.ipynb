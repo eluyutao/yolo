{
 "cells": [
  {
   "cell_type": "code",
   "execution_count": 18,
   "metadata": {},
   "outputs": [
    {
     "name": "stdout",
     "output_type": "stream",
     "text": [
      "[*********************100%***********************]  1 of 1 completed\n"
     ]
    }
   ],
   "source": [
    "import yfinance as yf\n",
    "ticker = 'NVDA'\n",
    "start_dt = '2022-01-03'\n",
    "\n",
    "df_yf=yf.download(\n",
    "        ticker,\n",
    "#         period = \"1y\",\n",
    "        start = start_dt,\n",
    "        interval = \"1d\",\n",
    "        group_by = 'ticker',\n",
    "        prepost = True,\n",
    "        threads = True,\n",
    "        proxy = None\n",
    "    )\n",
    "df_yf.columns = [x.lower() for x in df_yf.columns]"
   ]
  },
  {
   "cell_type": "code",
   "execution_count": 19,
   "metadata": {},
   "outputs": [
    {
     "data": {
      "text/html": [
       "<div>\n",
       "<style scoped>\n",
       "    .dataframe tbody tr th:only-of-type {\n",
       "        vertical-align: middle;\n",
       "    }\n",
       "\n",
       "    .dataframe tbody tr th {\n",
       "        vertical-align: top;\n",
       "    }\n",
       "\n",
       "    .dataframe thead th {\n",
       "        text-align: right;\n",
       "    }\n",
       "</style>\n",
       "<table border=\"1\" class=\"dataframe\">\n",
       "  <thead>\n",
       "    <tr style=\"text-align: right;\">\n",
       "      <th></th>\n",
       "      <th>open</th>\n",
       "      <th>high</th>\n",
       "      <th>low</th>\n",
       "      <th>close</th>\n",
       "      <th>adj close</th>\n",
       "      <th>volume</th>\n",
       "      <th>daily_return</th>\n",
       "    </tr>\n",
       "    <tr>\n",
       "      <th>Date</th>\n",
       "      <th></th>\n",
       "      <th></th>\n",
       "      <th></th>\n",
       "      <th></th>\n",
       "      <th></th>\n",
       "      <th></th>\n",
       "      <th></th>\n",
       "    </tr>\n",
       "  </thead>\n",
       "  <tbody>\n",
       "    <tr>\n",
       "      <th>2022-01-03</th>\n",
       "      <td>298.149994</td>\n",
       "      <td>307.109985</td>\n",
       "      <td>297.850006</td>\n",
       "      <td>301.209991</td>\n",
       "      <td>301.158691</td>\n",
       "      <td>39154700</td>\n",
       "      <td>NaN</td>\n",
       "    </tr>\n",
       "    <tr>\n",
       "      <th>2022-01-04</th>\n",
       "      <td>302.769989</td>\n",
       "      <td>304.679993</td>\n",
       "      <td>283.489990</td>\n",
       "      <td>292.899994</td>\n",
       "      <td>292.850098</td>\n",
       "      <td>52715400</td>\n",
       "      <td>-0.027589</td>\n",
       "    </tr>\n",
       "    <tr>\n",
       "      <th>2022-01-05</th>\n",
       "      <td>289.489990</td>\n",
       "      <td>294.160004</td>\n",
       "      <td>275.329987</td>\n",
       "      <td>276.040009</td>\n",
       "      <td>275.992981</td>\n",
       "      <td>49806400</td>\n",
       "      <td>-0.057562</td>\n",
       "    </tr>\n",
       "    <tr>\n",
       "      <th>2022-01-06</th>\n",
       "      <td>276.399994</td>\n",
       "      <td>284.380005</td>\n",
       "      <td>270.649994</td>\n",
       "      <td>281.779999</td>\n",
       "      <td>281.731995</td>\n",
       "      <td>45418600</td>\n",
       "      <td>0.020794</td>\n",
       "    </tr>\n",
       "    <tr>\n",
       "      <th>2022-01-07</th>\n",
       "      <td>281.410004</td>\n",
       "      <td>284.220001</td>\n",
       "      <td>270.570007</td>\n",
       "      <td>272.470001</td>\n",
       "      <td>272.423584</td>\n",
       "      <td>40993900</td>\n",
       "      <td>-0.033040</td>\n",
       "    </tr>\n",
       "    <tr>\n",
       "      <th>...</th>\n",
       "      <td>...</td>\n",
       "      <td>...</td>\n",
       "      <td>...</td>\n",
       "      <td>...</td>\n",
       "      <td>...</td>\n",
       "      <td>...</td>\n",
       "      <td>...</td>\n",
       "    </tr>\n",
       "    <tr>\n",
       "      <th>2022-05-18</th>\n",
       "      <td>177.050003</td>\n",
       "      <td>181.179993</td>\n",
       "      <td>168.639999</td>\n",
       "      <td>169.380005</td>\n",
       "      <td>169.380005</td>\n",
       "      <td>54516100</td>\n",
       "      <td>-0.068163</td>\n",
       "    </tr>\n",
       "    <tr>\n",
       "      <th>2022-05-19</th>\n",
       "      <td>169.369995</td>\n",
       "      <td>176.869995</td>\n",
       "      <td>167.339996</td>\n",
       "      <td>171.240005</td>\n",
       "      <td>171.240005</td>\n",
       "      <td>62131000</td>\n",
       "      <td>0.010981</td>\n",
       "    </tr>\n",
       "    <tr>\n",
       "      <th>2022-05-20</th>\n",
       "      <td>173.320007</td>\n",
       "      <td>174.100006</td>\n",
       "      <td>157.550003</td>\n",
       "      <td>166.940002</td>\n",
       "      <td>166.940002</td>\n",
       "      <td>73731800</td>\n",
       "      <td>-0.025111</td>\n",
       "    </tr>\n",
       "    <tr>\n",
       "      <th>2022-05-23</th>\n",
       "      <td>162.740005</td>\n",
       "      <td>169.149994</td>\n",
       "      <td>161.789993</td>\n",
       "      <td>168.979996</td>\n",
       "      <td>168.979996</td>\n",
       "      <td>63988900</td>\n",
       "      <td>0.012220</td>\n",
       "    </tr>\n",
       "    <tr>\n",
       "      <th>2022-05-24</th>\n",
       "      <td>165.100006</td>\n",
       "      <td>165.970001</td>\n",
       "      <td>157.800003</td>\n",
       "      <td>161.539993</td>\n",
       "      <td>161.539993</td>\n",
       "      <td>56244435</td>\n",
       "      <td>-0.044029</td>\n",
       "    </tr>\n",
       "  </tbody>\n",
       "</table>\n",
       "<p>99 rows × 7 columns</p>\n",
       "</div>"
      ],
      "text/plain": [
       "                  open        high         low       close   adj close  \\\n",
       "Date                                                                     \n",
       "2022-01-03  298.149994  307.109985  297.850006  301.209991  301.158691   \n",
       "2022-01-04  302.769989  304.679993  283.489990  292.899994  292.850098   \n",
       "2022-01-05  289.489990  294.160004  275.329987  276.040009  275.992981   \n",
       "2022-01-06  276.399994  284.380005  270.649994  281.779999  281.731995   \n",
       "2022-01-07  281.410004  284.220001  270.570007  272.470001  272.423584   \n",
       "...                ...         ...         ...         ...         ...   \n",
       "2022-05-18  177.050003  181.179993  168.639999  169.380005  169.380005   \n",
       "2022-05-19  169.369995  176.869995  167.339996  171.240005  171.240005   \n",
       "2022-05-20  173.320007  174.100006  157.550003  166.940002  166.940002   \n",
       "2022-05-23  162.740005  169.149994  161.789993  168.979996  168.979996   \n",
       "2022-05-24  165.100006  165.970001  157.800003  161.539993  161.539993   \n",
       "\n",
       "              volume  daily_return  \n",
       "Date                                \n",
       "2022-01-03  39154700           NaN  \n",
       "2022-01-04  52715400     -0.027589  \n",
       "2022-01-05  49806400     -0.057562  \n",
       "2022-01-06  45418600      0.020794  \n",
       "2022-01-07  40993900     -0.033040  \n",
       "...              ...           ...  \n",
       "2022-05-18  54516100     -0.068163  \n",
       "2022-05-19  62131000      0.010981  \n",
       "2022-05-20  73731800     -0.025111  \n",
       "2022-05-23  63988900      0.012220  \n",
       "2022-05-24  56244435     -0.044029  \n",
       "\n",
       "[99 rows x 7 columns]"
      ]
     },
     "execution_count": 19,
     "metadata": {},
     "output_type": "execute_result"
    }
   ],
   "source": [
    "df_yf['daily_return'] = df_yf['adj close'].pct_change(1)\n",
    "df_yf"
   ]
  },
  {
   "cell_type": "code",
   "execution_count": 20,
   "metadata": {},
   "outputs": [],
   "source": [
    "from matplotlib import pyplot as plt\n",
    "%matplotlib inline\n",
    "plt.rcParams['figure.figsize'] = (20, 8)"
   ]
  },
  {
   "cell_type": "code",
   "execution_count": 21,
   "metadata": {},
   "outputs": [
    {
     "data": {
      "text/plain": [
       "<BarContainer object of 99 artists>"
      ]
     },
     "execution_count": 21,
     "metadata": {},
     "output_type": "execute_result"
    },
    {
     "data": {
      "image/png": "[encoded data removed]",
      "text/plain": [
       "<Figure size 1440x576 with 1 Axes>"
      ]
     },
     "metadata": {
      "needs_background": "light"
     },
     "output_type": "display_data"
    }
   ],
   "source": [
    "plt.bar(df_yf.index, df_yf['daily_return'])"
   ]
  },
  {
   "cell_type": "code",
   "execution_count": 22,
   "metadata": {},
   "outputs": [
    {
     "data": {
      "application/vnd.plotly.v1+json": {
       "config": {
        "plotlyServerURL": "https://plot.ly"
       },
       "data": [
        {
         "name": "daily_return",
         "type": "bar",
         "x": [
          "2022-01-03T00:00:00",
          "2022-01-04T00:00:00",
          "2022-01-05T00:00:00",
          "2022-01-06T00:00:00",
          "2022-01-07T00:00:00",
          "2022-01-10T00:00:00",
          "2022-01-11T00:00:00",
          "2022-01-12T00:00:00",
          "2022-01-13T00:00:00",
          "2022-01-14T00:00:00",
          "2022-01-18T00:00:00",
          "2022-01-19T00:00:00",
          "2022-01-20T00:00:00",
          "2022-01-21T00:00:00",
          "2022-01-24T00:00:00",
          "2022-01-25T00:00:00",
          "2022-01-26T00:00:00",
          "2022-01-27T00:00:00",
          "2022-01-28T00:00:00",
          "2022-01-31T00:00:00",
          "2022-02-01T00:00:00",
          "2022-02-02T00:00:00",
          "2022-02-03T00:00:00",
          "2022-02-04T00:00:00",
          "2022-02-07T00:00:00",
          "2022-02-08T00:00:00",
          "2022-02-09T00:00:00",
          "2022-02-10T00:00:00",
          "2022-02-11T00:00:00",
          "2022-02-14T00:00:00",
          "2022-02-15T00:00:00",
          "2022-02-16T00:00:00",
          "2022-02-17T00:00:00",
          "2022-02-18T00:00:00",
          "2022-02-22T00:00:00",
          "2022-02-23T00:00:00",
          "2022-02-24T00:00:00",
          "2022-02-25T00:00:00",
          "2022-02-28T00:00:00",
          "2022-03-01T00:00:00",
          "2022-03-02T00:00:00",
          "2022-03-03T00:00:00",
          "2022-03-04T00:00:00",
          "2022-03-07T00:00:00",
          "2022-03-08T00:00:00",
          "2022-03-09T00:00:00",
          "2022-03-10T00:00:00",
          "2022-03-11T00:00:00",
          "2022-03-14T00:00:00",
          "2022-03-15T00:00:00",
          "2022-03-16T00:00:00",
          "2022-03-17T00:00:00",
          "2022-03-18T00:00:00",
          "2022-03-21T00:00:00",
          "2022-03-22T00:00:00",
          "2022-03-23T00:00:00",
          "2022-03-24T00:00:00",
          "2022-03-25T00:00:00",
          "2022-03-28T00:00:00",
          "2022-03-29T00:00:00",
          "2022-03-30T00:00:00",
          "2022-03-31T00:00:00",
          "2022-04-01T00:00:00",
          "2022-04-04T00:00:00",
          "2022-04-05T00:00:00",
          "2022-04-06T00:00:00",
          "2022-04-07T00:00:00",
          "2022-04-08T00:00:00",
          "2022-04-11T00:00:00",
          "2022-04-12T00:00:00",
          "2022-04-13T00:00:00",
          "2022-04-14T00:00:00",
          "2022-04-18T00:00:00",
          "2022-04-19T00:00:00",
          "2022-04-20T00:00:00",
          "2022-04-21T00:00:00",
          "2022-04-22T00:00:00",
          "2022-04-25T00:00:00",
          "2022-04-26T00:00:00",
          "2022-04-27T00:00:00",
          "2022-04-28T00:00:00",
          "2022-04-29T00:00:00",
          "2022-05-02T00:00:00",
          "2022-05-03T00:00:00",
          "2022-05-04T00:00:00",
          "2022-05-05T00:00:00",
          "2022-05-06T00:00:00",
          "2022-05-09T00:00:00",
          "2022-05-10T00:00:00",
          "2022-05-11T00:00:00",
          "2022-05-12T00:00:00",
          "2022-05-13T00:00:00",
          "2022-05-16T00:00:00",
          "2022-05-17T00:00:00",
          "2022-05-18T00:00:00",
          "2022-05-19T00:00:00",
          "2022-05-20T00:00:00",
          "2022-05-23T00:00:00",
          "2022-05-24T00:00:00"
         ],
         "xaxis": "x",
         "y": [
          null,
          -0.027588756317153962,
          -0.05756227105310985,
          0.02079405661685474,
          -0.03303994868169724,
          0.005615353180140392,
          0.015218945776733994,
          0.00654269556818976,
          -0.05085887081960627,
          0.013809962611178506,
          -0.03856437590257278,
          -0.032274217402355254,
          -0.036581975001569234,
          -0.03213245899583983,
          -8.559801344709683e-05,
          -0.04483996012919811,
          0.02006806918213422,
          -0.03636046579269547,
          0.04083116984276125,
          0.07206656585062343,
          0.0062076445187049245,
          0.024514976422522983,
          -0.05126380467356906,
          0.015491954536761554,
          0.016818089254555302,
          0.01536723396762607,
          0.06360512560922782,
          -0.03299009064025604,
          -0.0726067854089194,
          0.013278217558492678,
          0.0918119665085877,
          0.000603773810962549,
          -0.07559117090223821,
          -0.03529604739568115,
          -0.010659023191087802,
          -0.042881566858553044,
          0.060794209848016756,
          0.017222530046260953,
          0.009438281465439458,
          -0.037236034625107495,
          0.03182373625990742,
          -0.02089181512118299,
          -0.032807619125078236,
          -0.06906172085690043,
          0.007587088257643204,
          0.06972204165917528,
          -0.015468834483510774,
          -0.02462707117115881,
          -0.03484161515041717,
          0.07702762513226258,
          0.06629526517900164,
          0.011022194947095887,
          0.0681175598309518,
          0.010622604512005474,
          -0.007855188644730227,
          -0.033554494888271,
          0.09815090903311519,
          -0.0162699345373557,
          0.01903072641243808,
          0.015486002620149097,
          -0.03371023082220037,
          -0.014590135911784041,
          -0.0210363942773778,
          0.024258801680066222,
          -0.052229562230036275,
          -0.05877131764243437,
          -0.00815342087698867,
          -0.04498512602147309,
          -0.051991886091645956,
          -0.018843842301941915,
          0.03250560691686388,
          -0.04256180246001673,
          0.02469658460240476,
          0.019051525784327117,
          -0.0322551065011667,
          -0.06046925356239652,
          -0.03309719998992977,
          0.01983095309769456,
          -0.05597426967390495,
          -0.01985315568122681,
          0.07423303763680078,
          -0.06243052090921464,
          0.05316223942123388,
          0.003532495955245185,
          0.03734308695991628,
          -0.07327625732679277,
          -0.008968384735251411,
          -0.09236947791164662,
          0.03805307934066193,
          -0.05484509271871729,
          -0.027360210272165175,
          0.0946522260191267,
          -0.024963279283241935,
          0.05288464385478875,
          -0.06816305825177116,
          0.010981228933358622,
          -0.02511097240025184,
          0.012219918870846058,
          -0.04402889471841631
         ],
         "yaxis": "y2"
        },
        {
         "close": [
          301.15869140625,
          292.85009765625,
          275.99298095703125,
          281.73199462890625,
          272.423583984375,
          273.9533386230469,
          278.12261962890625,
          279.9422912597656,
          265.7047424316406,
          269.3741149902344,
          258.9858703613281,
          250.62730407714844,
          241.4588623046875,
          233.7001953125,
          233.68019104003906,
          223.2019805908203,
          227.68121337890625,
          219.40261840820312,
          228.361083984375,
          244.8182830810547,
          246.33802795410156,
          252.3769989013672,
          239.43919372558594,
          243.14857482910156,
          247.2378692626953,
          251.0372314453125,
          267.0044860839844,
          258.19598388671875,
          239.44920349121094,
          242.628662109375,
          264.9048767089844,
          265.0648193359375,
          245.02825927734375,
          236.37973022460938,
          233.8601531982422,
          223.8318634033203,
          237.43954467773438,
          241.5288543701172,
          243.8084716796875,
          234.73001098632812,
          242.1999969482422,
          237.13999938964844,
          229.36000061035156,
          213.52000427246094,
          215.13999938964844,
          230.13999938964844,
          226.5800018310547,
          221,
          213.3000030517578,
          229.72999572753906,
          244.9600067138672,
          247.66000366210938,
          264.5299987792969,
          267.3399963378906,
          265.239990234375,
          256.3399963378906,
          281.5,
          276.9200134277344,
          282.19000244140625,
          286.55999755859375,
          276.8999938964844,
          272.8599853515625,
          267.1199951171875,
          273.6000061035156,
          259.30999755859375,
          244.07000732421875,
          242.0800018310547,
          231.19000244140625,
          219.1699981689453,
          215.0399932861328,
          222.02999877929688,
          212.5800018310547,
          217.8300018310547,
          221.97999572753906,
          214.82000732421875,
          201.8300018310547,
          195.14999389648438,
          199.02000427246094,
          187.8800048828125,
          184.14999389648438,
          197.82000732421875,
          185.47000122070312,
          195.3300018310547,
          196.02000427246094,
          203.33999633789062,
          188.44000244140625,
          186.75,
          169.5,
          175.9499969482422,
          166.3000030517578,
          161.75,
          177.05999755859375,
          172.63999938964844,
          181.77000427246094,
          169.3800048828125,
          171.24000549316406,
          166.94000244140625,
          168.97999572753906,
          161.5399932861328
         ],
         "high": [
          307.1099853515625,
          304.67999267578125,
          294.1600036621094,
          284.3800048828125,
          284.2200012207031,
          274.69000244140625,
          280.6499938964844,
          285.95001220703125,
          284.79998779296875,
          271.9700012207031,
          266.3800048828125,
          265.42999267578125,
          255.7899932861328,
          248.22999572753906,
          233.8000030517578,
          229.42999267578125,
          240.57000732421875,
          239.9499969482422,
          228.5800018310547,
          245.08999633789062,
          251.4499969482422,
          258.1700134277344,
          250.77000427246094,
          246.35000610351562,
          251.82000732421875,
          252.3000030517578,
          267.25,
          269.25,
          261.5199890136719,
          248.75,
          265.45001220703125,
          265.82000732421875,
          257.8500061035156,
          249.86000061035156,
          240.63999938964844,
          241.5500030517578,
          238,
          242.1699981689453,
          246.64999389648438,
          243.77000427246094,
          244.08999633789062,
          243.25999450683594,
          236.8000030517578,
          230.3300018310547,
          223.72999572753906,
          232.1999969482422,
          227.8800048828125,
          231.4499969482422,
          222.6199951171875,
          230.3800048828125,
          245.97000122070312,
          248.4199981689453,
          265.69000244140625,
          271.5199890136719,
          272.3800048828125,
          266.1199951171875,
          283.20001220703125,
          283.5799865722656,
          282.5,
          289.4599914550781,
          284.9599914550781,
          282.4800109863281,
          274.9599914550781,
          275.5799865722656,
          273.19000244140625,
          253,
          247.22000122070312,
          239.22999572753906,
          223.1999969482422,
          227.25,
          225,
          227.77000427246094,
          220.8800048828125,
          223.72999572753906,
          226.6999969482422,
          223.9199981689453,
          204.86000061035156,
          199.4499969482422,
          197.8800048828125,
          191.6699981689453,
          200.3699951171875,
          201.27999877929688,
          195.74000549316406,
          198.25,
          204,
          199.25,
          195.1199951171875,
          182.5500030517578,
          181.97999572753906,
          177.52999877929688,
          167.8800048828125,
          179.27999877929688,
          177.8800048828125,
          183.7100067138672,
          181.17999267578125,
          176.8699951171875,
          174.10000610351562,
          169.14999389648438,
          165.97000122070312
         ],
         "low": [
          297.8500061035156,
          283.489990234375,
          275.3299865722656,
          270.6499938964844,
          270.57000732421875,
          256.44000244140625,
          268.3900146484375,
          276.0799865722656,
          264.9800109863281,
          262.1000061035156,
          257.70001220703125,
          250.52000427246094,
          240.77999877929688,
          232.6300048828125,
          208.8800048828125,
          220,
          223,
          216.75,
          212.9600067138672,
          230.52000427246094,
          238.89999389648438,
          245.52999877929688,
          237.8000030517578,
          236.32000732421875,
          242.02000427246094,
          239.8000030517578,
          253.52999877929688,
          256,
          237.72999572753906,
          237.5500030517578,
          247.83999633789062,
          255.52000427246094,
          241.64999389648438,
          231,
          230,
          223.00999450683594,
          208.89999389648438,
          233.80999755859375,
          237.07000732421875,
          231.32000732421875,
          234.14999389648438,
          234.69000244140625,
          224.82000732421875,
          213.3000030517578,
          206.5,
          222.47000122070312,
          218.82000732421875,
          220.4600067138672,
          211.58999633789062,
          213.22000122070312,
          231.72000122070312,
          239.05999755859375,
          246.24000549316406,
          259.6700134277344,
          260.7200012207031,
          255.75,
          259.07000732421875,
          272.7099914550781,
          272.05999755859375,
          279.79998779296875,
          275.0299987792969,
          272.70001220703125,
          262.6700134277344,
          266.1300048828125,
          258.20001220703125,
          240.02999877929688,
          234.77999877929688,
          230.6199951171875,
          216.60000610351562,
          212.82000732421875,
          214.5500030517578,
          211.6300048828125,
          210.7899932861328,
          213.13999938964844,
          212,
          200,
          195,
          190.9600067138672,
          186.6999969482422,
          182.89999389648438,
          184.89999389648438,
          185.1699981689453,
          183.91000366210938,
          191.3300018310547,
          187.50999450683594,
          185,
          179.89999389648438,
          168.27000427246094,
          170.25,
          165.67999267578125,
          155.6699981689453,
          165.92999267578125,
          171.05999755859375,
          176.33999633789062,
          168.63999938964844,
          167.33999633789062,
          157.5500030517578,
          161.7899932861328,
          157.8000030517578
         ],
         "open": [
          298.1499938964844,
          302.7699890136719,
          289.489990234375,
          276.3999938964844,
          281.4100036621094,
          265.80999755859375,
          273.2300109863281,
          280.6700134277344,
          283.7900085449219,
          263,
          262.6000061035156,
          260.7900085449219,
          253.0399932861328,
          235.07000732421875,
          223.3000030517578,
          225.4600067138672,
          232.39999389648438,
          235.67999267578125,
          220.1199951171875,
          231.82000732421875,
          251.0399932861328,
          257.94000244140625,
          244.5800018310547,
          239.72000122070312,
          243.72000122070312,
          243.58999633789062,
          256.2200012207031,
          259.95001220703125,
          259.1600036621094,
          239.33999633789062,
          249.49000549316406,
          262.5899963378906,
          256.29998779296875,
          246.67999267578125,
          230.35000610351562,
          238.02000427246094,
          210.14999389648438,
          237.2100067138672,
          239.9199981689453,
          242.91000366210938,
          237.55999755859375,
          242.6199951171875,
          233.83999633789062,
          228.1699981689453,
          213.08999633789062,
          223.8699951171875,
          225.30999755859375,
          230.22000122070312,
          218.69000244140625,
          215.17999267578125,
          235,
          241.1999969482422,
          247.99000549316406,
          265.07000732421875,
          267.2699890136719,
          261.260009765625,
          261.6600036621094,
          278.8599853515625,
          277.55999755859375,
          286.95001220703125,
          283.0400085449219,
          277.82000732421875,
          273.75,
          267.2799987792969,
          272.5400085449219,
          249.33999633789062,
          244.41000366210938,
          239.1699981689453,
          222.13999938964844,
          225.3699951171875,
          217.27999877929688,
          225.0500030517578,
          212,
          217.1999969482422,
          225.1699981689453,
          217.08999633789062,
          203.02999877929688,
          192.02000427246094,
          197.17999267578125,
          185.97999572753906,
          189.6699981689453,
          194.02000427246094,
          185.41000366210938,
          194,
          199.22999572753906,
          198.6699981689453,
          187.36000061035156,
          180.33999633789062,
          176.88999938964844,
          173.47000122070312,
          162.19000244140625,
          167.8800048828125,
          175.08999633789062,
          180.74000549316406,
          177.0500030517578,
          169.3699951171875,
          173.32000732421875,
          162.74000549316406,
          165.10000610351562
         ],
         "type": "candlestick",
         "x": [
          "2022-01-03T00:00:00",
          "2022-01-04T00:00:00",
          "2022-01-05T00:00:00",
          "2022-01-06T00:00:00",
          "2022-01-07T00:00:00",
          "2022-01-10T00:00:00",
          "2022-01-11T00:00:00",
          "2022-01-12T00:00:00",
          "2022-01-13T00:00:00",
          "2022-01-14T00:00:00",
          "2022-01-18T00:00:00",
          "2022-01-19T00:00:00",
          "2022-01-20T00:00:00",
          "2022-01-21T00:00:00",
          "2022-01-24T00:00:00",
          "2022-01-25T00:00:00",
          "2022-01-26T00:00:00",
          "2022-01-27T00:00:00",
          "2022-01-28T00:00:00",
          "2022-01-31T00:00:00",
          "2022-02-01T00:00:00",
          "2022-02-02T00:00:00",
          "2022-02-03T00:00:00",
          "2022-02-04T00:00:00",
          "2022-02-07T00:00:00",
          "2022-02-08T00:00:00",
          "2022-02-09T00:00:00",
          "2022-02-10T00:00:00",
          "2022-02-11T00:00:00",
          "2022-02-14T00:00:00",
          "2022-02-15T00:00:00",
          "2022-02-16T00:00:00",
          "2022-02-17T00:00:00",
          "2022-02-18T00:00:00",
          "2022-02-22T00:00:00",
          "2022-02-23T00:00:00",
          "2022-02-24T00:00:00",
          "2022-02-25T00:00:00",
          "2022-02-28T00:00:00",
          "2022-03-01T00:00:00",
          "2022-03-02T00:00:00",
          "2022-03-03T00:00:00",
          "2022-03-04T00:00:00",
          "2022-03-07T00:00:00",
          "2022-03-08T00:00:00",
          "2022-03-09T00:00:00",
          "2022-03-10T00:00:00",
          "2022-03-11T00:00:00",
          "2022-03-14T00:00:00",
          "2022-03-15T00:00:00",
          "2022-03-16T00:00:00",
          "2022-03-17T00:00:00",
          "2022-03-18T00:00:00",
          "2022-03-21T00:00:00",
          "2022-03-22T00:00:00",
          "2022-03-23T00:00:00",
          "2022-03-24T00:00:00",
          "2022-03-25T00:00:00",
          "2022-03-28T00:00:00",
          "2022-03-29T00:00:00",
          "2022-03-30T00:00:00",
          "2022-03-31T00:00:00",
          "2022-04-01T00:00:00",
          "2022-04-04T00:00:00",
          "2022-04-05T00:00:00",
          "2022-04-06T00:00:00",
          "2022-04-07T00:00:00",
          "2022-04-08T00:00:00",
          "2022-04-11T00:00:00",
          "2022-04-12T00:00:00",
          "2022-04-13T00:00:00",
          "2022-04-14T00:00:00",
          "2022-04-18T00:00:00",
          "2022-04-19T00:00:00",
          "2022-04-20T00:00:00",
          "2022-04-21T00:00:00",
          "2022-04-22T00:00:00",
          "2022-04-25T00:00:00",
          "2022-04-26T00:00:00",
          "2022-04-27T00:00:00",
          "2022-04-28T00:00:00",
          "2022-04-29T00:00:00",
          "2022-05-02T00:00:00",
          "2022-05-03T00:00:00",
          "2022-05-04T00:00:00",
          "2022-05-05T00:00:00",
          "2022-05-06T00:00:00",
          "2022-05-09T00:00:00",
          "2022-05-10T00:00:00",
          "2022-05-11T00:00:00",
          "2022-05-12T00:00:00",
          "2022-05-13T00:00:00",
          "2022-05-16T00:00:00",
          "2022-05-17T00:00:00",
          "2022-05-18T00:00:00",
          "2022-05-19T00:00:00",
          "2022-05-20T00:00:00",
          "2022-05-23T00:00:00",
          "2022-05-24T00:00:00"
         ]
        }
       ],
       "layout": {
        "template": {
         "data": {
          "bar": [
           {
            "error_x": {
             "color": "#2a3f5f"
            },
            "error_y": {
             "color": "#2a3f5f"
            },
            "marker": {
             "line": {
              "color": "#E5ECF6",
              "width": 0.5
             }
            },
            "type": "bar"
           }
          ],
          "barpolar": [
           {
            "marker": {
             "line": {
              "color": "#E5ECF6",
              "width": 0.5
             }
            },
            "type": "barpolar"
           }
          ],
          "carpet": [
           {
            "aaxis": {
             "endlinecolor": "#2a3f5f",
             "gridcolor": "white",
             "linecolor": "white",
             "minorgridcolor": "white",
             "startlinecolor": "#2a3f5f"
            },
            "baxis": {
             "endlinecolor": "#2a3f5f",
             "gridcolor": "white",
             "linecolor": "white",
             "minorgridcolor": "white",
             "startlinecolor": "#2a3f5f"
            },
            "type": "carpet"
           }
          ],
          "choropleth": [
           {
            "colorbar": {
             "outlinewidth": 0,
             "ticks": ""
            },
            "type": "choropleth"
           }
          ],
          "contour": [
           {
            "colorbar": {
             "outlinewidth": 0,
             "ticks": ""
            },
            "colorscale": [
             [
              0,
              "#0d0887"
             ],
             [
              0.1111111111111111,
              "#46039f"
             ],
             [
              0.2222222222222222,
              "#7201a8"
             ],
             [
              0.3333333333333333,
              "#9c179e"
             ],
             [
              0.4444444444444444,
              "#bd3786"
             ],
             [
              0.5555555555555556,
              "#d8576b"
             ],
             [
              0.6666666666666666,
              "#ed7953"
             ],
             [
              0.7777777777777778,
              "#fb9f3a"
             ],
             [
              0.8888888888888888,
              "#fdca26"
             ],
             [
              1,
              "#f0f921"
             ]
            ],
            "type": "contour"
           }
          ],
          "contourcarpet": [
           {
            "colorbar": {
             "outlinewidth": 0,
             "ticks": ""
            },
            "type": "contourcarpet"
           }
          ],
          "heatmap": [
           {
            "colorbar": {
             "outlinewidth": 0,
             "ticks": ""
            },
            "colorscale": [
             [
              0,
              "#0d0887"
             ],
             [
              0.1111111111111111,
              "#46039f"
             ],
             [
              0.2222222222222222,
              "#7201a8"
             ],
             [
              0.3333333333333333,
              "#9c179e"
             ],
             [
              0.4444444444444444,
              "#bd3786"
             ],
             [
              0.5555555555555556,
              "#d8576b"
             ],
             [
              0.6666666666666666,
              "#ed7953"
             ],
             [
              0.7777777777777778,
              "#fb9f3a"
             ],
             [
              0.8888888888888888,
              "#fdca26"
             ],
             [
              1,
              "#f0f921"
             ]
            ],
            "type": "heatmap"
           }
          ],
          "heatmapgl": [
           {
            "colorbar": {
             "outlinewidth": 0,
             "ticks": ""
            },
            "colorscale": [
             [
              0,
              "#0d0887"
             ],
             [
              0.1111111111111111,
              "#46039f"
             ],
             [
              0.2222222222222222,
              "#7201a8"
             ],
             [
              0.3333333333333333,
              "#9c179e"
             ],
             [
              0.4444444444444444,
              "#bd3786"
             ],
             [
              0.5555555555555556,
              "#d8576b"
             ],
             [
              0.6666666666666666,
              "#ed7953"
             ],
             [
              0.7777777777777778,
              "#fb9f3a"
             ],
             [
              0.8888888888888888,
              "#fdca26"
             ],
             [
              1,
              "#f0f921"
             ]
            ],
            "type": "heatmapgl"
           }
          ],
          "histogram": [
           {
            "marker": {
             "colorbar": {
              "outlinewidth": 0,
              "ticks": ""
             }
            },
            "type": "histogram"
           }
          ],
          "histogram2d": [
           {
            "colorbar": {
             "outlinewidth": 0,
             "ticks": ""
            },
            "colorscale": [
             [
              0,
              "#0d0887"
             ],
             [
              0.1111111111111111,
              "#46039f"
             ],
             [
              0.2222222222222222,
              "#7201a8"
             ],
             [
              0.3333333333333333,
              "#9c179e"
             ],
             [
              0.4444444444444444,
              "#bd3786"
             ],
             [
              0.5555555555555556,
              "#d8576b"
             ],
             [
              0.6666666666666666,
              "#ed7953"
             ],
             [
              0.7777777777777778,
              "#fb9f3a"
             ],
             [
              0.8888888888888888,
              "#fdca26"
             ],
             [
              1,
              "#f0f921"
             ]
            ],
            "type": "histogram2d"
           }
          ],
          "histogram2dcontour": [
           {
            "colorbar": {
             "outlinewidth": 0,
             "ticks": ""
            },
            "colorscale": [
             [
              0,
              "#0d0887"
             ],
             [
              0.1111111111111111,
              "#46039f"
             ],
             [
              0.2222222222222222,
              "#7201a8"
             ],
             [
              0.3333333333333333,
              "#9c179e"
             ],
             [
              0.4444444444444444,
              "#bd3786"
             ],
             [
              0.5555555555555556,
              "#d8576b"
             ],
             [
              0.6666666666666666,
              "#ed7953"
             ],
             [
              0.7777777777777778,
              "#fb9f3a"
             ],
             [
              0.8888888888888888,
              "#fdca26"
             ],
             [
              1,
              "#f0f921"
             ]
            ],
            "type": "histogram2dcontour"
           }
          ],
          "mesh3d": [
           {
            "colorbar": {
             "outlinewidth": 0,
             "ticks": ""
            },
            "type": "mesh3d"
           }
          ],
          "parcoords": [
           {
            "line": {
             "colorbar": {
              "outlinewidth": 0,
              "ticks": ""
             }
            },
            "type": "parcoords"
           }
          ],
          "pie": [
           {
            "automargin": true,
            "type": "pie"
           }
          ],
          "scatter": [
           {
            "marker": {
             "colorbar": {
              "outlinewidth": 0,
              "ticks": ""
             }
            },
            "type": "scatter"
           }
          ],
          "scatter3d": [
           {
            "line": {
             "colorbar": {
              "outlinewidth": 0,
              "ticks": ""
             }
            },
            "marker": {
             "colorbar": {
              "outlinewidth": 0,
              "ticks": ""
             }
            },
            "type": "scatter3d"
           }
          ],
          "scattercarpet": [
           {
            "marker": {
             "colorbar": {
              "outlinewidth": 0,
              "ticks": ""
             }
            },
            "type": "scattercarpet"
           }
          ],
          "scattergeo": [
           {
            "marker": {
             "colorbar": {
              "outlinewidth": 0,
              "ticks": ""
             }
            },
            "type": "scattergeo"
           }
          ],
          "scattergl": [
           {
            "marker": {
             "colorbar": {
              "outlinewidth": 0,
              "ticks": ""
             }
            },
            "type": "scattergl"
           }
          ],
          "scattermapbox": [
           {
            "marker": {
             "colorbar": {
              "outlinewidth": 0,
              "ticks": ""
             }
            },
            "type": "scattermapbox"
           }
          ],
          "scatterpolar": [
           {
            "marker": {
             "colorbar": {
              "outlinewidth": 0,
              "ticks": ""
             }
            },
            "type": "scatterpolar"
           }
          ],
          "scatterpolargl": [
           {
            "marker": {
             "colorbar": {
              "outlinewidth": 0,
              "ticks": ""
             }
            },
            "type": "scatterpolargl"
           }
          ],
          "scatterternary": [
           {
            "marker": {
             "colorbar": {
              "outlinewidth": 0,
              "ticks": ""
             }
            },
            "type": "scatterternary"
           }
          ],
          "surface": [
           {
            "colorbar": {
             "outlinewidth": 0,
             "ticks": ""
            },
            "colorscale": [
             [
              0,
              "#0d0887"
             ],
             [
              0.1111111111111111,
              "#46039f"
             ],
             [
              0.2222222222222222,
              "#7201a8"
             ],
             [
              0.3333333333333333,
              "#9c179e"
             ],
             [
              0.4444444444444444,
              "#bd3786"
             ],
             [
              0.5555555555555556,
              "#d8576b"
             ],
             [
              0.6666666666666666,
              "#ed7953"
             ],
             [
              0.7777777777777778,
              "#fb9f3a"
             ],
             [
              0.8888888888888888,
              "#fdca26"
             ],
             [
              1,
              "#f0f921"
             ]
            ],
            "type": "surface"
           }
          ],
          "table": [
           {
            "cells": {
             "fill": {
              "color": "#EBF0F8"
             },
             "line": {
              "color": "white"
             }
            },
            "header": {
             "fill": {
              "color": "#C8D4E3"
             },
             "line": {
              "color": "white"
             }
            },
            "type": "table"
           }
          ]
         },
         "layout": {
          "annotationdefaults": {
           "arrowcolor": "#2a3f5f",
           "arrowhead": 0,
           "arrowwidth": 1
          },
          "coloraxis": {
           "colorbar": {
            "outlinewidth": 0,
            "ticks": ""
           }
          },
          "colorscale": {
           "diverging": [
            [
             0,
             "#8e0152"
            ],
            [
             0.1,
             "#c51b7d"
            ],
            [
             0.2,
             "#de77ae"
            ],
            [
             0.3,
             "#f1b6da"
            ],
            [
             0.4,
             "#fde0ef"
            ],
            [
             0.5,
             "#f7f7f7"
            ],
            [
             0.6,
             "#e6f5d0"
            ],
            [
             0.7,
             "#b8e186"
            ],
            [
             0.8,
             "#7fbc41"
            ],
            [
             0.9,
             "#4d9221"
            ],
            [
             1,
             "#276419"
            ]
           ],
           "sequential": [
            [
             0,
             "#0d0887"
            ],
            [
             0.1111111111111111,
             "#46039f"
            ],
            [
             0.2222222222222222,
             "#7201a8"
            ],
            [
             0.3333333333333333,
             "#9c179e"
            ],
            [
             0.4444444444444444,
             "#bd3786"
            ],
            [
             0.5555555555555556,
             "#d8576b"
            ],
            [
             0.6666666666666666,
             "#ed7953"
            ],
            [
             0.7777777777777778,
             "#fb9f3a"
            ],
            [
             0.8888888888888888,
             "#fdca26"
            ],
            [
             1,
             "#f0f921"
            ]
           ],
           "sequentialminus": [
            [
             0,
             "#0d0887"
            ],
            [
             0.1111111111111111,
             "#46039f"
            ],
            [
             0.2222222222222222,
             "#7201a8"
            ],
            [
             0.3333333333333333,
             "#9c179e"
            ],
            [
             0.4444444444444444,
             "#bd3786"
            ],
            [
             0.5555555555555556,
             "#d8576b"
            ],
            [
             0.6666666666666666,
             "#ed7953"
            ],
            [
             0.7777777777777778,
             "#fb9f3a"
            ],
            [
             0.8888888888888888,
             "#fdca26"
            ],
            [
             1,
             "#f0f921"
            ]
           ]
          },
          "colorway": [
           "#636efa",
           "#EF553B",
           "#00cc96",
           "#ab63fa",
           "#FFA15A",
           "#19d3f3",
           "#FF6692",
           "#B6E880",
           "#FF97FF",
           "#FECB52"
          ],
          "font": {
           "color": "#2a3f5f"
          },
          "geo": {
           "bgcolor": "white",
           "lakecolor": "white",
           "landcolor": "#E5ECF6",
           "showlakes": true,
           "showland": true,
           "subunitcolor": "white"
          },
          "hoverlabel": {
           "align": "left"
          },
          "hovermode": "closest",
          "mapbox": {
           "style": "light"
          },
          "paper_bgcolor": "white",
          "plot_bgcolor": "#E5ECF6",
          "polar": {
           "angularaxis": {
            "gridcolor": "white",
            "linecolor": "white",
            "ticks": ""
           },
           "bgcolor": "#E5ECF6",
           "radialaxis": {
            "gridcolor": "white",
            "linecolor": "white",
            "ticks": ""
           }
          },
          "scene": {
           "xaxis": {
            "backgroundcolor": "#E5ECF6",
            "gridcolor": "white",
            "gridwidth": 2,
            "linecolor": "white",
            "showbackground": true,
            "ticks": "",
            "zerolinecolor": "white"
           },
           "yaxis": {
            "backgroundcolor": "#E5ECF6",
            "gridcolor": "white",
            "gridwidth": 2,
            "linecolor": "white",
            "showbackground": true,
            "ticks": "",
            "zerolinecolor": "white"
           },
           "zaxis": {
            "backgroundcolor": "#E5ECF6",
            "gridcolor": "white",
            "gridwidth": 2,
            "linecolor": "white",
            "showbackground": true,
            "ticks": "",
            "zerolinecolor": "white"
           }
          },
          "shapedefaults": {
           "line": {
            "color": "#2a3f5f"
           }
          },
          "ternary": {
           "aaxis": {
            "gridcolor": "white",
            "linecolor": "white",
            "ticks": ""
           },
           "baxis": {
            "gridcolor": "white",
            "linecolor": "white",
            "ticks": ""
           },
           "bgcolor": "#E5ECF6",
           "caxis": {
            "gridcolor": "white",
            "linecolor": "white",
            "ticks": ""
           }
          },
          "title": {
           "x": 0.05
          },
          "xaxis": {
           "automargin": true,
           "gridcolor": "white",
           "linecolor": "white",
           "ticks": "",
           "title": {
            "standoff": 15
           },
           "zerolinecolor": "white",
           "zerolinewidth": 2
          },
          "yaxis": {
           "automargin": true,
           "gridcolor": "white",
           "linecolor": "white",
           "ticks": "",
           "title": {
            "standoff": 15
           },
           "zerolinecolor": "white",
           "zerolinewidth": 2
          }
         }
        },
        "title": {
         "text": "gf_index and S&P500"
        },
        "xaxis": {
         "anchor": "y",
         "domain": [
          0,
          0.94
         ],
         "rangeslider": {
          "visible": false
         },
         "title": {
          "text": "time"
         }
        },
        "yaxis": {
         "anchor": "x",
         "domain": [
          0,
          1
         ],
         "title": {
          "text": "gf_index"
         }
        },
        "yaxis2": {
         "anchor": "x",
         "overlaying": "y",
         "side": "right",
         "title": {
          "text": "S%P500"
         }
        }
       }
      },
      "text/html": [
       "<div>\n",
       "        \n",
       "        \n",
       "            <div id=\"09bd6a08-a821-4304-9343-8235a95e8b05\" class=\"plotly-graph-div\" style=\"height:525px; width:100%;\"></div>\n",
       "            <script type=\"text/javascript\">\n",
       "                require([\"plotly\"], function(Plotly) {\n",
       "                    window.PLOTLYENV=window.PLOTLYENV || {};\n",
       "                    \n",
       "                if (document.getElementById(\"09bd6a08-a821-4304-9343-8235a95e8b05\")) {\n",
       "                    Plotly.newPlot(\n",
       "                        '09bd6a08-a821-4304-9343-8235a95e8b05',\n",
       "                        [{\"name\": \"daily_return\", \"type\": \"bar\", \"x\": [\"2022-01-03T00:00:00\", \"2022-01-04T00:00:00\", \"2022-01-05T00:00:00\", \"2022-01-06T00:00:00\", \"2022-01-07T00:00:00\", \"2022-01-10T00:00:00\", \"2022-01-11T00:00:00\", \"2022-01-12T00:00:00\", \"2022-01-13T00:00:00\", \"2022-01-14T00:00:00\", \"2022-01-18T00:00:00\", \"2022-01-19T00:00:00\", \"2022-01-20T00:00:00\", \"2022-01-21T00:00:00\", \"2022-01-24T00:00:00\", \"2022-01-25T00:00:00\", \"2022-01-26T00:00:00\", \"2022-01-27T00:00:00\", \"2022-01-28T00:00:00\", \"2022-01-31T00:00:00\", \"2022-02-01T00:00:00\", \"2022-02-02T00:00:00\", \"2022-02-03T00:00:00\", \"2022-02-04T00:00:00\", \"2022-02-07T00:00:00\", \"2022-02-08T00:00:00\", \"2022-02-09T00:00:00\", \"2022-02-10T00:00:00\", \"2022-02-11T00:00:00\", \"2022-02-14T00:00:00\", \"2022-02-15T00:00:00\", \"2022-02-16T00:00:00\", \"2022-02-17T00:00:00\", \"2022-02-18T00:00:00\", \"2022-02-22T00:00:00\", \"2022-02-23T00:00:00\", \"2022-02-24T00:00:00\", \"2022-02-25T00:00:00\", \"2022-02-28T00:00:00\", \"2022-03-01T00:00:00\", \"2022-03-02T00:00:00\", \"2022-03-03T00:00:00\", \"2022-03-04T00:00:00\", \"2022-03-07T00:00:00\", \"2022-03-08T00:00:00\", \"2022-03-09T00:00:00\", \"2022-03-10T00:00:00\", \"2022-03-11T00:00:00\", \"2022-03-14T00:00:00\", \"2022-03-15T00:00:00\", \"2022-03-16T00:00:00\", \"2022-03-17T00:00:00\", \"2022-03-18T00:00:00\", \"2022-03-21T00:00:00\", \"2022-03-22T00:00:00\", \"2022-03-23T00:00:00\", \"2022-03-24T00:00:00\", \"2022-03-25T00:00:00\", \"2022-03-28T00:00:00\", \"2022-03-29T00:00:00\", \"2022-03-30T00:00:00\", \"2022-03-31T00:00:00\", \"2022-04-01T00:00:00\", \"2022-04-04T00:00:00\", \"2022-04-05T00:00:00\", \"2022-04-06T00:00:00\", \"2022-04-07T00:00:00\", \"2022-04-08T00:00:00\", \"2022-04-11T00:00:00\", \"2022-04-12T00:00:00\", \"2022-04-13T00:00:00\", \"2022-04-14T00:00:00\", \"2022-04-18T00:00:00\", \"2022-04-19T00:00:00\", \"2022-04-20T00:00:00\", \"2022-04-21T00:00:00\", \"2022-04-22T00:00:00\", \"2022-04-25T00:00:00\", \"2022-04-26T00:00:00\", \"2022-04-27T00:00:00\", \"2022-04-28T00:00:00\", \"2022-04-29T00:00:00\", \"2022-05-02T00:00:00\", \"2022-05-03T00:00:00\", \"2022-05-04T00:00:00\", \"2022-05-05T00:00:00\", \"2022-05-06T00:00:00\", \"2022-05-09T00:00:00\", \"2022-05-10T00:00:00\", \"2022-05-11T00:00:00\", \"2022-05-12T00:00:00\", \"2022-05-13T00:00:00\", \"2022-05-16T00:00:00\", \"2022-05-17T00:00:00\", \"2022-05-18T00:00:00\", \"2022-05-19T00:00:00\", \"2022-05-20T00:00:00\", \"2022-05-23T00:00:00\", \"2022-05-24T00:00:00\"], \"xaxis\": \"x\", \"y\": [null, -0.027588756317153962, -0.05756227105310985, 0.02079405661685474, -0.03303994868169724, 0.005615353180140392, 0.015218945776733994, 0.00654269556818976, -0.05085887081960627, 0.013809962611178506, -0.03856437590257278, -0.032274217402355254, -0.036581975001569234, -0.03213245899583983, -8.559801344709683e-05, -0.04483996012919811, 0.02006806918213422, -0.03636046579269547, 0.04083116984276125, 0.07206656585062343, 0.0062076445187049245, 0.024514976422522983, -0.05126380467356906, 0.015491954536761554, 0.016818089254555302, 0.01536723396762607, 0.06360512560922782, -0.03299009064025604, -0.0726067854089194, 0.013278217558492678, 0.0918119665085877, 0.000603773810962549, -0.07559117090223821, -0.03529604739568115, -0.010659023191087802, -0.042881566858553044, 0.060794209848016756, 0.017222530046260953, 0.009438281465439458, -0.037236034625107495, 0.03182373625990742, -0.02089181512118299, -0.032807619125078236, -0.06906172085690043, 0.007587088257643204, 0.06972204165917528, -0.015468834483510774, -0.02462707117115881, -0.03484161515041717, 0.07702762513226258, 0.06629526517900164, 0.011022194947095887, 0.0681175598309518, 0.010622604512005474, -0.007855188644730227, -0.033554494888271, 0.09815090903311519, -0.0162699345373557, 0.01903072641243808, 0.015486002620149097, -0.03371023082220037, -0.014590135911784041, -0.0210363942773778, 0.024258801680066222, -0.052229562230036275, -0.05877131764243437, -0.00815342087698867, -0.04498512602147309, -0.051991886091645956, -0.018843842301941915, 0.03250560691686388, -0.04256180246001673, 0.02469658460240476, 0.019051525784327117, -0.0322551065011667, -0.06046925356239652, -0.03309719998992977, 0.01983095309769456, -0.05597426967390495, -0.01985315568122681, 0.07423303763680078, -0.06243052090921464, 0.05316223942123388, 0.003532495955245185, 0.03734308695991628, -0.07327625732679277, -0.008968384735251411, -0.09236947791164662, 0.03805307934066193, -0.05484509271871729, -0.027360210272165175, 0.0946522260191267, -0.024963279283241935, 0.05288464385478875, -0.06816305825177116, 0.010981228933358622, -0.02511097240025184, 0.012219918870846058, -0.04402889471841631], \"yaxis\": \"y2\"}, {\"close\": [301.15869140625, 292.85009765625, 275.99298095703125, 281.73199462890625, 272.423583984375, 273.9533386230469, 278.12261962890625, 279.9422912597656, 265.7047424316406, 269.3741149902344, 258.9858703613281, 250.62730407714844, 241.4588623046875, 233.7001953125, 233.68019104003906, 223.2019805908203, 227.68121337890625, 219.40261840820312, 228.361083984375, 244.8182830810547, 246.33802795410156, 252.3769989013672, 239.43919372558594, 243.14857482910156, 247.2378692626953, 251.0372314453125, 267.0044860839844, 258.19598388671875, 239.44920349121094, 242.628662109375, 264.9048767089844, 265.0648193359375, 245.02825927734375, 236.37973022460938, 233.8601531982422, 223.8318634033203, 237.43954467773438, 241.5288543701172, 243.8084716796875, 234.73001098632812, 242.1999969482422, 237.13999938964844, 229.36000061035156, 213.52000427246094, 215.13999938964844, 230.13999938964844, 226.5800018310547, 221.0, 213.3000030517578, 229.72999572753906, 244.9600067138672, 247.66000366210938, 264.5299987792969, 267.3399963378906, 265.239990234375, 256.3399963378906, 281.5, 276.9200134277344, 282.19000244140625, 286.55999755859375, 276.8999938964844, 272.8599853515625, 267.1199951171875, 273.6000061035156, 259.30999755859375, 244.07000732421875, 242.0800018310547, 231.19000244140625, 219.1699981689453, 215.0399932861328, 222.02999877929688, 212.5800018310547, 217.8300018310547, 221.97999572753906, 214.82000732421875, 201.8300018310547, 195.14999389648438, 199.02000427246094, 187.8800048828125, 184.14999389648438, 197.82000732421875, 185.47000122070312, 195.3300018310547, 196.02000427246094, 203.33999633789062, 188.44000244140625, 186.75, 169.5, 175.9499969482422, 166.3000030517578, 161.75, 177.05999755859375, 172.63999938964844, 181.77000427246094, 169.3800048828125, 171.24000549316406, 166.94000244140625, 168.97999572753906, 161.5399932861328], \"high\": [307.1099853515625, 304.67999267578125, 294.1600036621094, 284.3800048828125, 284.2200012207031, 274.69000244140625, 280.6499938964844, 285.95001220703125, 284.79998779296875, 271.9700012207031, 266.3800048828125, 265.42999267578125, 255.7899932861328, 248.22999572753906, 233.8000030517578, 229.42999267578125, 240.57000732421875, 239.9499969482422, 228.5800018310547, 245.08999633789062, 251.4499969482422, 258.1700134277344, 250.77000427246094, 246.35000610351562, 251.82000732421875, 252.3000030517578, 267.25, 269.25, 261.5199890136719, 248.75, 265.45001220703125, 265.82000732421875, 257.8500061035156, 249.86000061035156, 240.63999938964844, 241.5500030517578, 238.0, 242.1699981689453, 246.64999389648438, 243.77000427246094, 244.08999633789062, 243.25999450683594, 236.8000030517578, 230.3300018310547, 223.72999572753906, 232.1999969482422, 227.8800048828125, 231.4499969482422, 222.6199951171875, 230.3800048828125, 245.97000122070312, 248.4199981689453, 265.69000244140625, 271.5199890136719, 272.3800048828125, 266.1199951171875, 283.20001220703125, 283.5799865722656, 282.5, 289.4599914550781, 284.9599914550781, 282.4800109863281, 274.9599914550781, 275.5799865722656, 273.19000244140625, 253.0, 247.22000122070312, 239.22999572753906, 223.1999969482422, 227.25, 225.0, 227.77000427246094, 220.8800048828125, 223.72999572753906, 226.6999969482422, 223.9199981689453, 204.86000061035156, 199.4499969482422, 197.8800048828125, 191.6699981689453, 200.3699951171875, 201.27999877929688, 195.74000549316406, 198.25, 204.0, 199.25, 195.1199951171875, 182.5500030517578, 181.97999572753906, 177.52999877929688, 167.8800048828125, 179.27999877929688, 177.8800048828125, 183.7100067138672, 181.17999267578125, 176.8699951171875, 174.10000610351562, 169.14999389648438, 165.97000122070312], \"low\": [297.8500061035156, 283.489990234375, 275.3299865722656, 270.6499938964844, 270.57000732421875, 256.44000244140625, 268.3900146484375, 276.0799865722656, 264.9800109863281, 262.1000061035156, 257.70001220703125, 250.52000427246094, 240.77999877929688, 232.6300048828125, 208.8800048828125, 220.0, 223.0, 216.75, 212.9600067138672, 230.52000427246094, 238.89999389648438, 245.52999877929688, 237.8000030517578, 236.32000732421875, 242.02000427246094, 239.8000030517578, 253.52999877929688, 256.0, 237.72999572753906, 237.5500030517578, 247.83999633789062, 255.52000427246094, 241.64999389648438, 231.0, 230.0, 223.00999450683594, 208.89999389648438, 233.80999755859375, 237.07000732421875, 231.32000732421875, 234.14999389648438, 234.69000244140625, 224.82000732421875, 213.3000030517578, 206.5, 222.47000122070312, 218.82000732421875, 220.4600067138672, 211.58999633789062, 213.22000122070312, 231.72000122070312, 239.05999755859375, 246.24000549316406, 259.6700134277344, 260.7200012207031, 255.75, 259.07000732421875, 272.7099914550781, 272.05999755859375, 279.79998779296875, 275.0299987792969, 272.70001220703125, 262.6700134277344, 266.1300048828125, 258.20001220703125, 240.02999877929688, 234.77999877929688, 230.6199951171875, 216.60000610351562, 212.82000732421875, 214.5500030517578, 211.6300048828125, 210.7899932861328, 213.13999938964844, 212.0, 200.0, 195.0, 190.9600067138672, 186.6999969482422, 182.89999389648438, 184.89999389648438, 185.1699981689453, 183.91000366210938, 191.3300018310547, 187.50999450683594, 185.0, 179.89999389648438, 168.27000427246094, 170.25, 165.67999267578125, 155.6699981689453, 165.92999267578125, 171.05999755859375, 176.33999633789062, 168.63999938964844, 167.33999633789062, 157.5500030517578, 161.7899932861328, 157.8000030517578], \"open\": [298.1499938964844, 302.7699890136719, 289.489990234375, 276.3999938964844, 281.4100036621094, 265.80999755859375, 273.2300109863281, 280.6700134277344, 283.7900085449219, 263.0, 262.6000061035156, 260.7900085449219, 253.0399932861328, 235.07000732421875, 223.3000030517578, 225.4600067138672, 232.39999389648438, 235.67999267578125, 220.1199951171875, 231.82000732421875, 251.0399932861328, 257.94000244140625, 244.5800018310547, 239.72000122070312, 243.72000122070312, 243.58999633789062, 256.2200012207031, 259.95001220703125, 259.1600036621094, 239.33999633789062, 249.49000549316406, 262.5899963378906, 256.29998779296875, 246.67999267578125, 230.35000610351562, 238.02000427246094, 210.14999389648438, 237.2100067138672, 239.9199981689453, 242.91000366210938, 237.55999755859375, 242.6199951171875, 233.83999633789062, 228.1699981689453, 213.08999633789062, 223.8699951171875, 225.30999755859375, 230.22000122070312, 218.69000244140625, 215.17999267578125, 235.0, 241.1999969482422, 247.99000549316406, 265.07000732421875, 267.2699890136719, 261.260009765625, 261.6600036621094, 278.8599853515625, 277.55999755859375, 286.95001220703125, 283.0400085449219, 277.82000732421875, 273.75, 267.2799987792969, 272.5400085449219, 249.33999633789062, 244.41000366210938, 239.1699981689453, 222.13999938964844, 225.3699951171875, 217.27999877929688, 225.0500030517578, 212.0, 217.1999969482422, 225.1699981689453, 217.08999633789062, 203.02999877929688, 192.02000427246094, 197.17999267578125, 185.97999572753906, 189.6699981689453, 194.02000427246094, 185.41000366210938, 194.0, 199.22999572753906, 198.6699981689453, 187.36000061035156, 180.33999633789062, 176.88999938964844, 173.47000122070312, 162.19000244140625, 167.8800048828125, 175.08999633789062, 180.74000549316406, 177.0500030517578, 169.3699951171875, 173.32000732421875, 162.74000549316406, 165.10000610351562], \"type\": \"candlestick\", \"x\": [\"2022-01-03T00:00:00\", \"2022-01-04T00:00:00\", \"2022-01-05T00:00:00\", \"2022-01-06T00:00:00\", \"2022-01-07T00:00:00\", \"2022-01-10T00:00:00\", \"2022-01-11T00:00:00\", \"2022-01-12T00:00:00\", \"2022-01-13T00:00:00\", \"2022-01-14T00:00:00\", \"2022-01-18T00:00:00\", \"2022-01-19T00:00:00\", \"2022-01-20T00:00:00\", \"2022-01-21T00:00:00\", \"2022-01-24T00:00:00\", \"2022-01-25T00:00:00\", \"2022-01-26T00:00:00\", \"2022-01-27T00:00:00\", \"2022-01-28T00:00:00\", \"2022-01-31T00:00:00\", \"2022-02-01T00:00:00\", \"2022-02-02T00:00:00\", \"2022-02-03T00:00:00\", \"2022-02-04T00:00:00\", \"2022-02-07T00:00:00\", \"2022-02-08T00:00:00\", \"2022-02-09T00:00:00\", \"2022-02-10T00:00:00\", \"2022-02-11T00:00:00\", \"2022-02-14T00:00:00\", \"2022-02-15T00:00:00\", \"2022-02-16T00:00:00\", \"2022-02-17T00:00:00\", \"2022-02-18T00:00:00\", \"2022-02-22T00:00:00\", \"2022-02-23T00:00:00\", \"2022-02-24T00:00:00\", \"2022-02-25T00:00:00\", \"2022-02-28T00:00:00\", \"2022-03-01T00:00:00\", \"2022-03-02T00:00:00\", \"2022-03-03T00:00:00\", \"2022-03-04T00:00:00\", \"2022-03-07T00:00:00\", \"2022-03-08T00:00:00\", \"2022-03-09T00:00:00\", \"2022-03-10T00:00:00\", \"2022-03-11T00:00:00\", \"2022-03-14T00:00:00\", \"2022-03-15T00:00:00\", \"2022-03-16T00:00:00\", \"2022-03-17T00:00:00\", \"2022-03-18T00:00:00\", \"2022-03-21T00:00:00\", \"2022-03-22T00:00:00\", \"2022-03-23T00:00:00\", \"2022-03-24T00:00:00\", \"2022-03-25T00:00:00\", \"2022-03-28T00:00:00\", \"2022-03-29T00:00:00\", \"2022-03-30T00:00:00\", \"2022-03-31T00:00:00\", \"2022-04-01T00:00:00\", \"2022-04-04T00:00:00\", \"2022-04-05T00:00:00\", \"2022-04-06T00:00:00\", \"2022-04-07T00:00:00\", \"2022-04-08T00:00:00\", \"2022-04-11T00:00:00\", \"2022-04-12T00:00:00\", \"2022-04-13T00:00:00\", \"2022-04-14T00:00:00\", \"2022-04-18T00:00:00\", \"2022-04-19T00:00:00\", \"2022-04-20T00:00:00\", \"2022-04-21T00:00:00\", \"2022-04-22T00:00:00\", \"2022-04-25T00:00:00\", \"2022-04-26T00:00:00\", \"2022-04-27T00:00:00\", \"2022-04-28T00:00:00\", \"2022-04-29T00:00:00\", \"2022-05-02T00:00:00\", \"2022-05-03T00:00:00\", \"2022-05-04T00:00:00\", \"2022-05-05T00:00:00\", \"2022-05-06T00:00:00\", \"2022-05-09T00:00:00\", \"2022-05-10T00:00:00\", \"2022-05-11T00:00:00\", \"2022-05-12T00:00:00\", \"2022-05-13T00:00:00\", \"2022-05-16T00:00:00\", \"2022-05-17T00:00:00\", \"2022-05-18T00:00:00\", \"2022-05-19T00:00:00\", \"2022-05-20T00:00:00\", \"2022-05-23T00:00:00\", \"2022-05-24T00:00:00\"]}],\n",
       "                        {\"template\": {\"data\": {\"bar\": [{\"error_x\": {\"color\": \"#2a3f5f\"}, \"error_y\": {\"color\": \"#2a3f5f\"}, \"marker\": {\"line\": {\"color\": \"#E5ECF6\", \"width\": 0.5}}, \"type\": \"bar\"}], \"barpolar\": [{\"marker\": {\"line\": {\"color\": \"#E5ECF6\", \"width\": 0.5}}, \"type\": \"barpolar\"}], \"carpet\": [{\"aaxis\": {\"endlinecolor\": \"#2a3f5f\", \"gridcolor\": \"white\", \"linecolor\": \"white\", \"minorgridcolor\": \"white\", \"startlinecolor\": \"#2a3f5f\"}, \"baxis\": {\"endlinecolor\": \"#2a3f5f\", \"gridcolor\": \"white\", \"linecolor\": \"white\", \"minorgridcolor\": \"white\", \"startlinecolor\": \"#2a3f5f\"}, \"type\": \"carpet\"}], \"choropleth\": [{\"colorbar\": {\"outlinewidth\": 0, \"ticks\": \"\"}, \"type\": \"choropleth\"}], \"contour\": [{\"colorbar\": {\"outlinewidth\": 0, \"ticks\": \"\"}, \"colorscale\": [[0.0, \"#0d0887\"], [0.1111111111111111, \"#46039f\"], [0.2222222222222222, \"#7201a8\"], [0.3333333333333333, \"#9c179e\"], [0.4444444444444444, \"#bd3786\"], [0.5555555555555556, \"#d8576b\"], [0.6666666666666666, \"#ed7953\"], [0.7777777777777778, \"#fb9f3a\"], [0.8888888888888888, \"#fdca26\"], [1.0, \"#f0f921\"]], \"type\": \"contour\"}], \"contourcarpet\": [{\"colorbar\": {\"outlinewidth\": 0, \"ticks\": \"\"}, \"type\": \"contourcarpet\"}], \"heatmap\": [{\"colorbar\": {\"outlinewidth\": 0, \"ticks\": \"\"}, \"colorscale\": [[0.0, \"#0d0887\"], [0.1111111111111111, \"#46039f\"], [0.2222222222222222, \"#7201a8\"], [0.3333333333333333, \"#9c179e\"], [0.4444444444444444, \"#bd3786\"], [0.5555555555555556, \"#d8576b\"], [0.6666666666666666, \"#ed7953\"], [0.7777777777777778, \"#fb9f3a\"], [0.8888888888888888, \"#fdca26\"], [1.0, \"#f0f921\"]], \"type\": \"heatmap\"}], \"heatmapgl\": [{\"colorbar\": {\"outlinewidth\": 0, \"ticks\": \"\"}, \"colorscale\": [[0.0, \"#0d0887\"], [0.1111111111111111, \"#46039f\"], [0.2222222222222222, \"#7201a8\"], [0.3333333333333333, \"#9c179e\"], [0.4444444444444444, \"#bd3786\"], [0.5555555555555556, \"#d8576b\"], [0.6666666666666666, \"#ed7953\"], [0.7777777777777778, \"#fb9f3a\"], [0.8888888888888888, \"#fdca26\"], [1.0, \"#f0f921\"]], \"type\": \"heatmapgl\"}], \"histogram\": [{\"marker\": {\"colorbar\": {\"outlinewidth\": 0, \"ticks\": \"\"}}, \"type\": \"histogram\"}], \"histogram2d\": [{\"colorbar\": {\"outlinewidth\": 0, \"ticks\": \"\"}, \"colorscale\": [[0.0, \"#0d0887\"], [0.1111111111111111, \"#46039f\"], [0.2222222222222222, \"#7201a8\"], [0.3333333333333333, \"#9c179e\"], [0.4444444444444444, \"#bd3786\"], [0.5555555555555556, \"#d8576b\"], [0.6666666666666666, \"#ed7953\"], [0.7777777777777778, \"#fb9f3a\"], [0.8888888888888888, \"#fdca26\"], [1.0, \"#f0f921\"]], \"type\": \"histogram2d\"}], \"histogram2dcontour\": [{\"colorbar\": {\"outlinewidth\": 0, \"ticks\": \"\"}, \"colorscale\": [[0.0, \"#0d0887\"], [0.1111111111111111, \"#46039f\"], [0.2222222222222222, \"#7201a8\"], [0.3333333333333333, \"#9c179e\"], [0.4444444444444444, \"#bd3786\"], [0.5555555555555556, \"#d8576b\"], [0.6666666666666666, \"#ed7953\"], [0.7777777777777778, \"#fb9f3a\"], [0.8888888888888888, \"#fdca26\"], [1.0, \"#f0f921\"]], \"type\": \"histogram2dcontour\"}], \"mesh3d\": [{\"colorbar\": {\"outlinewidth\": 0, \"ticks\": \"\"}, \"type\": \"mesh3d\"}], \"parcoords\": [{\"line\": {\"colorbar\": {\"outlinewidth\": 0, \"ticks\": \"\"}}, \"type\": \"parcoords\"}], \"pie\": [{\"automargin\": true, \"type\": \"pie\"}], \"scatter\": [{\"marker\": {\"colorbar\": {\"outlinewidth\": 0, \"ticks\": \"\"}}, \"type\": \"scatter\"}], \"scatter3d\": [{\"line\": {\"colorbar\": {\"outlinewidth\": 0, \"ticks\": \"\"}}, \"marker\": {\"colorbar\": {\"outlinewidth\": 0, \"ticks\": \"\"}}, \"type\": \"scatter3d\"}], \"scattercarpet\": [{\"marker\": {\"colorbar\": {\"outlinewidth\": 0, \"ticks\": \"\"}}, \"type\": \"scattercarpet\"}], \"scattergeo\": [{\"marker\": {\"colorbar\": {\"outlinewidth\": 0, \"ticks\": \"\"}}, \"type\": \"scattergeo\"}], \"scattergl\": [{\"marker\": {\"colorbar\": {\"outlinewidth\": 0, \"ticks\": \"\"}}, \"type\": \"scattergl\"}], \"scattermapbox\": [{\"marker\": {\"colorbar\": {\"outlinewidth\": 0, \"ticks\": \"\"}}, \"type\": \"scattermapbox\"}], \"scatterpolar\": [{\"marker\": {\"colorbar\": {\"outlinewidth\": 0, \"ticks\": \"\"}}, \"type\": \"scatterpolar\"}], \"scatterpolargl\": [{\"marker\": {\"colorbar\": {\"outlinewidth\": 0, \"ticks\": \"\"}}, \"type\": \"scatterpolargl\"}], \"scatterternary\": [{\"marker\": {\"colorbar\": {\"outlinewidth\": 0, \"ticks\": \"\"}}, \"type\": \"scatterternary\"}], \"surface\": [{\"colorbar\": {\"outlinewidth\": 0, \"ticks\": \"\"}, \"colorscale\": [[0.0, \"#0d0887\"], [0.1111111111111111, \"#46039f\"], [0.2222222222222222, \"#7201a8\"], [0.3333333333333333, \"#9c179e\"], [0.4444444444444444, \"#bd3786\"], [0.5555555555555556, \"#d8576b\"], [0.6666666666666666, \"#ed7953\"], [0.7777777777777778, \"#fb9f3a\"], [0.8888888888888888, \"#fdca26\"], [1.0, \"#f0f921\"]], \"type\": \"surface\"}], \"table\": [{\"cells\": {\"fill\": {\"color\": \"#EBF0F8\"}, \"line\": {\"color\": \"white\"}}, \"header\": {\"fill\": {\"color\": \"#C8D4E3\"}, \"line\": {\"color\": \"white\"}}, \"type\": \"table\"}]}, \"layout\": {\"annotationdefaults\": {\"arrowcolor\": \"#2a3f5f\", \"arrowhead\": 0, \"arrowwidth\": 1}, \"coloraxis\": {\"colorbar\": {\"outlinewidth\": 0, \"ticks\": \"\"}}, \"colorscale\": {\"diverging\": [[0, \"#8e0152\"], [0.1, \"#c51b7d\"], [0.2, \"#de77ae\"], [0.3, \"#f1b6da\"], [0.4, \"#fde0ef\"], [0.5, \"#f7f7f7\"], [0.6, \"#e6f5d0\"], [0.7, \"#b8e186\"], [0.8, \"#7fbc41\"], [0.9, \"#4d9221\"], [1, \"#276419\"]], \"sequential\": [[0.0, \"#0d0887\"], [0.1111111111111111, \"#46039f\"], [0.2222222222222222, \"#7201a8\"], [0.3333333333333333, \"#9c179e\"], [0.4444444444444444, \"#bd3786\"], [0.5555555555555556, \"#d8576b\"], [0.6666666666666666, \"#ed7953\"], [0.7777777777777778, \"#fb9f3a\"], [0.8888888888888888, \"#fdca26\"], [1.0, \"#f0f921\"]], \"sequentialminus\": [[0.0, \"#0d0887\"], [0.1111111111111111, \"#46039f\"], [0.2222222222222222, \"#7201a8\"], [0.3333333333333333, \"#9c179e\"], [0.4444444444444444, \"#bd3786\"], [0.5555555555555556, \"#d8576b\"], [0.6666666666666666, \"#ed7953\"], [0.7777777777777778, \"#fb9f3a\"], [0.8888888888888888, \"#fdca26\"], [1.0, \"#f0f921\"]]}, \"colorway\": [\"#636efa\", \"#EF553B\", \"#00cc96\", \"#ab63fa\", \"#FFA15A\", \"#19d3f3\", \"#FF6692\", \"#B6E880\", \"#FF97FF\", \"#FECB52\"], \"font\": {\"color\": \"#2a3f5f\"}, \"geo\": {\"bgcolor\": \"white\", \"lakecolor\": \"white\", \"landcolor\": \"#E5ECF6\", \"showlakes\": true, \"showland\": true, \"subunitcolor\": \"white\"}, \"hoverlabel\": {\"align\": \"left\"}, \"hovermode\": \"closest\", \"mapbox\": {\"style\": \"light\"}, \"paper_bgcolor\": \"white\", \"plot_bgcolor\": \"#E5ECF6\", \"polar\": {\"angularaxis\": {\"gridcolor\": \"white\", \"linecolor\": \"white\", \"ticks\": \"\"}, \"bgcolor\": \"#E5ECF6\", \"radialaxis\": {\"gridcolor\": \"white\", \"linecolor\": \"white\", \"ticks\": \"\"}}, \"scene\": {\"xaxis\": {\"backgroundcolor\": \"#E5ECF6\", \"gridcolor\": \"white\", \"gridwidth\": 2, \"linecolor\": \"white\", \"showbackground\": true, \"ticks\": \"\", \"zerolinecolor\": \"white\"}, \"yaxis\": {\"backgroundcolor\": \"#E5ECF6\", \"gridcolor\": \"white\", \"gridwidth\": 2, \"linecolor\": \"white\", \"showbackground\": true, \"ticks\": \"\", \"zerolinecolor\": \"white\"}, \"zaxis\": {\"backgroundcolor\": \"#E5ECF6\", \"gridcolor\": \"white\", \"gridwidth\": 2, \"linecolor\": \"white\", \"showbackground\": true, \"ticks\": \"\", \"zerolinecolor\": \"white\"}}, \"shapedefaults\": {\"line\": {\"color\": \"#2a3f5f\"}}, \"ternary\": {\"aaxis\": {\"gridcolor\": \"white\", \"linecolor\": \"white\", \"ticks\": \"\"}, \"baxis\": {\"gridcolor\": \"white\", \"linecolor\": \"white\", \"ticks\": \"\"}, \"bgcolor\": \"#E5ECF6\", \"caxis\": {\"gridcolor\": \"white\", \"linecolor\": \"white\", \"ticks\": \"\"}}, \"title\": {\"x\": 0.05}, \"xaxis\": {\"automargin\": true, \"gridcolor\": \"white\", \"linecolor\": \"white\", \"ticks\": \"\", \"title\": {\"standoff\": 15}, \"zerolinecolor\": \"white\", \"zerolinewidth\": 2}, \"yaxis\": {\"automargin\": true, \"gridcolor\": \"white\", \"linecolor\": \"white\", \"ticks\": \"\", \"title\": {\"standoff\": 15}, \"zerolinecolor\": \"white\", \"zerolinewidth\": 2}}}, \"title\": {\"text\": \"gf_index and S&P500\"}, \"xaxis\": {\"anchor\": \"y\", \"domain\": [0.0, 0.94], \"rangeslider\": {\"visible\": false}, \"title\": {\"text\": \"time\"}}, \"yaxis\": {\"anchor\": \"x\", \"domain\": [0.0, 1.0], \"title\": {\"text\": \"gf_index\"}}, \"yaxis2\": {\"anchor\": \"x\", \"overlaying\": \"y\", \"side\": \"right\", \"title\": {\"text\": \"S%P500\"}}},\n",
       "                        {\"responsive\": true}\n",
       "                    ).then(function(){\n",
       "                            \n",
       "var gd = document.getElementById('09bd6a08-a821-4304-9343-8235a95e8b05');\n",
       "var x = new MutationObserver(function (mutations, observer) {{\n",
       "        var display = window.getComputedStyle(gd).display;\n",
       "        if (!display || display === 'none') {{\n",
       "            console.log([gd, 'removed!']);\n",
       "            Plotly.purge(gd);\n",
       "            observer.disconnect();\n",
       "        }}\n",
       "}});\n",
       "\n",
       "// Listen for the removal of the full notebook cells\n",
       "var notebookContainer = gd.closest('#notebook-container');\n",
       "if (notebookContainer) {{\n",
       "    x.observe(notebookContainer, {childList: true});\n",
       "}}\n",
       "\n",
       "// Listen for the clearing of the current output cell\n",
       "var outputEl = gd.closest('.output');\n",
       "if (outputEl) {{\n",
       "    x.observe(outputEl, {childList: true});\n",
       "}}\n",
       "\n",
       "                        })\n",
       "                };\n",
       "                });\n",
       "            </script>\n",
       "        </div>"
      ]
     },
     "metadata": {},
     "output_type": "display_data"
    }
   ],
   "source": [
    "from plotly.subplots import make_subplots\n",
    "import plotly.graph_objects as go\n",
    "df = df_yf.copy()\n",
    "fig5 = make_subplots(specs=[[{\"secondary_y\": True}]])\n",
    "\n",
    "# Add traces\n",
    "fig5.add_trace(\n",
    "    go.Bar(x=df.index, y=df.daily_return, name=\"daily_return\"),\n",
    "    secondary_y=True,\n",
    ")\n",
    "\n",
    "fig5.add_trace(\n",
    "#     go.Scatter(x=result.upload_date, y=result.adjclose_filled, name=\"adjclose filled\"),\n",
    "#     secondary_y=True\n",
    "    go.Candlestick(x=df.index,\n",
    "                open=df.open, high=df.high,\n",
    "                low=df.low, close=df['adj close'])\n",
    ")\n",
    "\n",
    "# Add figure title\n",
    "fig5.update_layout(\n",
    "    title_text=f\"gf_index and S&P500\"\n",
    ")\n",
    "\n",
    "# Set x-axis title\n",
    "fig5.update_xaxes(title_text=\"time\")\n",
    "fig5.update_layout(xaxis_rangeslider_visible=False)\n",
    "# Set y-axes titles\n",
    "fig5.update_yaxes(title_text=\"gf_index\", secondary_y=False)\n",
    "fig5.update_yaxes(title_text=\"S%P500\", secondary_y=True)\n",
    "\n",
    "fig5.show()\n",
    "\n",
    "# fig5.write_html(f\"./plots/fgi_sp500_2012.html\")"
   ]
  },
  {
   "cell_type": "code",
   "execution_count": null,
   "metadata": {},
   "outputs": [],
   "source": []
  }
 ],
 "metadata": {
  "kernelspec": {
   "display_name": "Python 3 (ipykernel)",
   "language": "python",
   "name": "python3"
  },
  "language_info": {
   "codemirror_mode": {
    "name": "ipython",
    "version": 3
   },
   "file_extension": ".py",
   "mimetype": "text/x-python",
   "name": "python",
   "nbconvert_exporter": "python",
   "pygments_lexer": "ipython3",
   "version": "3.9.13"
  }
 },
 "nbformat": 4,
 "nbformat_minor": 2
}
