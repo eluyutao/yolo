{
 "cells": [
  {
   "cell_type": "code",
   "execution_count": 6,
   "id": "4bd0ee7c",
   "metadata": {},
   "outputs": [],
   "source": [
    "import psycopg2\n",
    "import pandas as pd"
   ]
  },
  {
   "cell_type": "code",
   "execution_count": 14,
   "id": "fbd19761",
   "metadata": {},
   "outputs": [],
   "source": [
    "# conn = psycopg2.connect(dbname='datadl', user='airflow', password='airflow', \n",
    "#                         host='2607:fea8:6e1:ea00:75d8:a510:8208:55b1', port='5432')\n",
    "conn = psycopg2.connect(dbname='datadl', user='airflow', password='airflow', \n",
    "                        host='10.0.0.153', port='5432')"
   ]
  },
  {
   "cell_type": "code",
   "execution_count": 15,
   "id": "6e64c421",
   "metadata": {},
   "outputs": [],
   "source": [
    "def execute_sql_ppg2(query, conn):\n",
    "    print('Executing SQL Query & Fetching Results...')\n",
    "    db_cursor = conn.cursor()\n",
    "    db_cursor.execute(query)\n",
    "    records = db_cursor.fetchall()\n",
    "    return records\n",
    "\n",
    "def create_df_from_ppg2(query, conn):\n",
    "    print('Executing SQL Query & Saving To DataFrame...')\n",
    "    return pd.read_sql_query(query, conn)\n",
    "\n",
    "def create_table_ppg2(df, conn, table_name, schema_name):\n",
    "    df.to_sql(con=conn, name=table_name, schema=schema_name, if_exists='replace',index=False)\n"
   ]
  },
  {
   "cell_type": "code",
   "execution_count": 16,
   "id": "a0a737c2",
   "metadata": {},
   "outputs": [
    {
     "name": "stdout",
     "output_type": "stream",
     "text": [
      "Executing SQL Query & Saving To DataFrame...\n"
     ]
    },
    {
     "name": "stderr",
     "output_type": "stream",
     "text": [
      "/opt/anaconda3/lib/python3.9/site-packages/pandas/io/sql.py:762: UserWarning: pandas only support SQLAlchemy connectable(engine/connection) ordatabase string URI or sqlite3 DBAPI2 connectionother DBAPI2 objects are not tested, please consider using SQLAlchemy\n",
      "  warnings.warn(\n"
     ]
    }
   ],
   "source": [
    "df = create_df_from_ppg2(\"select * from stock_price_minute where ticker = 'TSLA' limit 5\", conn)"
   ]
  },
  {
   "cell_type": "code",
   "execution_count": 17,
   "id": "f78fca2b",
   "metadata": {},
   "outputs": [
    {
     "data": {
      "text/html": [
       "<div>\n",
       "<style scoped>\n",
       "    .dataframe tbody tr th:only-of-type {\n",
       "        vertical-align: middle;\n",
       "    }\n",
       "\n",
       "    .dataframe tbody tr th {\n",
       "        vertical-align: top;\n",
       "    }\n",
       "\n",
       "    .dataframe thead th {\n",
       "        text-align: right;\n",
       "    }\n",
       "</style>\n",
       "<table border=\"1\" class=\"dataframe\">\n",
       "  <thead>\n",
       "    <tr style=\"text-align: right;\">\n",
       "      <th></th>\n",
       "      <th>ticker</th>\n",
       "      <th>date_time</th>\n",
       "      <th>open_price</th>\n",
       "      <th>high_price</th>\n",
       "      <th>low_price</th>\n",
       "      <th>close_price</th>\n",
       "      <th>volume</th>\n",
       "      <th>vwap</th>\n",
       "      <th>transactions</th>\n",
       "      <th>otc</th>\n",
       "    </tr>\n",
       "  </thead>\n",
       "  <tbody>\n",
       "    <tr>\n",
       "      <th>0</th>\n",
       "      <td>TSLA</td>\n",
       "      <td>2020-01-02 09:00:00+00:00</td>\n",
       "      <td>28.0607</td>\n",
       "      <td>28.0667</td>\n",
       "      <td>28.0607</td>\n",
       "      <td>28.0667</td>\n",
       "      <td>19755.0</td>\n",
       "      <td>28.0488</td>\n",
       "      <td>31</td>\n",
       "      <td>None</td>\n",
       "    </tr>\n",
       "    <tr>\n",
       "      <th>1</th>\n",
       "      <td>TSLA</td>\n",
       "      <td>2020-01-02 09:03:00+00:00</td>\n",
       "      <td>28.1380</td>\n",
       "      <td>28.1667</td>\n",
       "      <td>28.1380</td>\n",
       "      <td>28.1667</td>\n",
       "      <td>13920.0</td>\n",
       "      <td>28.1480</td>\n",
       "      <td>23</td>\n",
       "      <td>None</td>\n",
       "    </tr>\n",
       "    <tr>\n",
       "      <th>2</th>\n",
       "      <td>TSLA</td>\n",
       "      <td>2020-01-02 09:04:00+00:00</td>\n",
       "      <td>28.1440</td>\n",
       "      <td>28.1440</td>\n",
       "      <td>28.1440</td>\n",
       "      <td>28.1440</td>\n",
       "      <td>5340.0</td>\n",
       "      <td>28.1484</td>\n",
       "      <td>12</td>\n",
       "      <td>None</td>\n",
       "    </tr>\n",
       "    <tr>\n",
       "      <th>3</th>\n",
       "      <td>TSLA</td>\n",
       "      <td>2020-01-02 09:07:00+00:00</td>\n",
       "      <td>28.2000</td>\n",
       "      <td>28.2000</td>\n",
       "      <td>28.2000</td>\n",
       "      <td>28.2000</td>\n",
       "      <td>3015.0</td>\n",
       "      <td>28.1997</td>\n",
       "      <td>5</td>\n",
       "      <td>None</td>\n",
       "    </tr>\n",
       "    <tr>\n",
       "      <th>4</th>\n",
       "      <td>TSLA</td>\n",
       "      <td>2020-01-02 09:14:00+00:00</td>\n",
       "      <td>28.1687</td>\n",
       "      <td>28.1687</td>\n",
       "      <td>28.1687</td>\n",
       "      <td>28.1687</td>\n",
       "      <td>2400.0</td>\n",
       "      <td>28.1686</td>\n",
       "      <td>3</td>\n",
       "      <td>None</td>\n",
       "    </tr>\n",
       "  </tbody>\n",
       "</table>\n",
       "</div>"
      ],
      "text/plain": [
       "  ticker                 date_time  open_price  high_price  low_price  \\\n",
       "0   TSLA 2020-01-02 09:00:00+00:00     28.0607     28.0667    28.0607   \n",
       "1   TSLA 2020-01-02 09:03:00+00:00     28.1380     28.1667    28.1380   \n",
       "2   TSLA 2020-01-02 09:04:00+00:00     28.1440     28.1440    28.1440   \n",
       "3   TSLA 2020-01-02 09:07:00+00:00     28.2000     28.2000    28.2000   \n",
       "4   TSLA 2020-01-02 09:14:00+00:00     28.1687     28.1687    28.1687   \n",
       "\n",
       "   close_price   volume     vwap  transactions   otc  \n",
       "0      28.0667  19755.0  28.0488            31  None  \n",
       "1      28.1667  13920.0  28.1480            23  None  \n",
       "2      28.1440   5340.0  28.1484            12  None  \n",
       "3      28.2000   3015.0  28.1997             5  None  \n",
       "4      28.1687   2400.0  28.1686             3  None  "
      ]
     },
     "execution_count": 17,
     "metadata": {},
     "output_type": "execute_result"
    }
   ],
   "source": [
    "df"
   ]
  },
  {
   "cell_type": "code",
   "execution_count": null,
   "id": "646f0966",
   "metadata": {},
   "outputs": [],
   "source": []
  }
 ],
 "metadata": {
  "kernelspec": {
   "display_name": "Python 3 (ipykernel)",
   "language": "python",
   "name": "python3"
  },
  "language_info": {
   "codemirror_mode": {
    "name": "ipython",
    "version": 3
   },
   "file_extension": ".py",
   "mimetype": "text/x-python",
   "name": "python",
   "nbconvert_exporter": "python",
   "pygments_lexer": "ipython3",
   "version": "3.9.13"
  }
 },
 "nbformat": 4,
 "nbformat_minor": 5
}
